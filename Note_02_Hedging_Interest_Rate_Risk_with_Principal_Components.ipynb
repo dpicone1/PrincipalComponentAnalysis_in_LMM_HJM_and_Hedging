{
 "cells": [
  {
   "cell_type": "markdown",
   "metadata": {},
   "source": [
    "# Note 02: Hedging Interest Rate Risk with Principal Components "
   ]
  },
  {
   "cell_type": "markdown",
   "metadata": {},
   "source": [
    "In this notebook we use principal components as a tool to hedge interest rate risk.\n",
    "\n",
    "The principal components analysis is a statistical technique which is used to explain the historical variation of yields. \n",
    "\n",
    "When yields change, the shape of the curve (the term structure) of the yields changes as well: the level of yields changes, or the slope of the curve changes, or the curvature changes, or all of them change."
   ]
  },
  {
   "cell_type": "markdown",
   "metadata": {},
   "source": [
    "#### Let's introduce a generic factor model before replacing it with a PC model.\n",
    "\n",
    "A factor model assumes that the changes of the various parts on the yield curve, $dr_i$, are due to a set of common factors, $\\phi_i$, where $\\beta_{i,j}$ determines the impact of the variation that each of the factors $d\\phi_i$ has on each individual change $dr_i$.\n",
    "\n",
    "One approach could be to define the level, the slope and the curvature of the curve of yields as follows:\n",
    "\n",
    "level($t$) = average of all yields, $\\phi_1(t)$\n",
    "\n",
    "slope($t$) = 10 year yield - 1 month yield, $\\phi_2(t)$\n",
    "\n",
    "curvature($t$) = - 1 month yield + 2 x 5 year yield - 10 year yield, $\\phi_3(t)$\n",
    "\n",
    "and estimate the following factor model\n",
    "\n",
    "$$\\Delta r_1(t) =\\alpha_1 + \\beta_{1,1}\\Delta\\phi_1(t) + \\beta_{1,2}\\Delta\\phi_2(t) + \\beta_{1,3}\\Delta\\phi_3(t) $$\n",
    "$$\\Delta r_2(t) =\\alpha_2 + \\beta_{2,1}\\Delta\\phi_1(t) + \\beta_{2,2}\\Delta\\phi_2(t) + \\beta_{2,3}\\Delta\\phi_3(t) $$\n",
    "$$...$$\n",
    "$$...$$\n",
    "$$\\Delta r_n(t) =\\alpha_n + \\beta_{n,1}\\Delta\\phi_1(t) + \\beta_{n,2}\\Delta\\phi_2(t) + \\beta_{n,3}\\Delta\\phi_3(t) $$\n",
    "where\n",
    "- $\\Delta\\phi_1(t)$ is the historical series of the changes in the level\n",
    "- $\\Delta\\phi_2(t)$ is the historical series of the changes in the slope\n",
    "- $\\Delta\\phi_3(t)$ is the historical series of the changes in the curvature\n",
    "- $\\Delta r_1(t)$ is the historical series of the changes in the 1 month rate\n",
    "- $\\Delta r_2(t)$ is the historical series of the changes in the 6 month rate\n",
    "\n",
    "This is admittedly, very arbitrary !!\n",
    "\n",
    "Why not to use a different set of points on the curve to define the slope and the curvature?\n",
    "\n",
    "There is a more fundamental problem with this model. The level, slope and curvature changes are not independent of each other . When the level changes, so do the slope and the curvature.\n",
    "\n",
    "Neverthless, a factor model allows us to introduce the concept of Factor Duration, which is needed when hedging with PCA too.\n",
    "\n",
    "\n",
    "If we assume that only factor $j$ changes, $dr_i$ = $\\beta_{i,j}$ $d\\phi_j$, then $dr_i$ has an impact of the zero coupon bond price, and we compute the total sensitivity of the zero coupon bond price to changes in one factor only as follows:\n",
    "\n",
    "$$\\frac{dP(t,T_i)}{d\\phi_j} = \\frac{dP(t,T_i)}{dr_i} \\frac{dr_i}{d\\phi_j} = \\frac{dP(t,T_i)}{dr_i}\\beta_{i,j}$$\n",
    "where \n",
    "\n",
    "- $\\frac{dP(t,T_i)}{dr_i}$ is the standard duration definition\n",
    "- $\\frac{dr_i}{d\\phi_j} = \\beta_{i,j}$ is per above.\n",
    "\n",
    "So now we have a formula for hedging purposes!"
   ]
  },
  {
   "cell_type": "markdown",
   "metadata": {},
   "source": [
    "#### Let's replace this arbitrary set up with Principal Components!"
   ]
  },
  {
   "cell_type": "markdown",
   "metadata": {},
   "source": [
    "The implementation of PCA begins with the variance-covariance matrix of $\\Delta r_i(t)'s$, we call $M=Cov(\\Delta r_i(t))$. \n",
    "\n",
    "The eigenvalues $\\lambda$ and the eigenvectors $v$ associated to $M$ are extracted in a way that the following holds: \n",
    "$Mv_i=\\lambda_iv_i$.\n",
    "\n",
    "Let's order the eigenvalues, $\\lambda_1>\\lambda_2>..>\\lambda_n$, together with their associated normalized eigenvectors $v_1>v_2>..>v_n$.\n",
    "\n",
    "Now we replace the $level$ $\\Delta\\phi_1(t)$ in the factor model, with the following series $\\Delta\\phi_1^{PCA}(t)$, set as follows:\n",
    "\n",
    "$$\\Delta\\phi_1^{PCA}(t) = \\sum_{i=1}^n v_{i,k}\\Delta r_k(t)$$\n",
    "\n",
    "The following is also true\n",
    "\n",
    "$$\\phi_1^{PCA}(t) = \\sum_{i=1}^n v_{i,k} r_k(t)$$\n",
    "\n",
    "In a sense, we are doing exactly the following:\n",
    "\n",
    "$$\\Delta r_1(t) =\\alpha_1 + \\beta_{1,1}\\Delta\\phi_1^{PCA}(t) + \\epsilon_1(t) $$\n",
    "$$\\Delta r_2(t) =\\alpha_2 + \\beta_{2,1}\\Delta\\phi_1^{PCA}(t) + \\epsilon_2(t) $$\n",
    "$$...$$\n",
    "$$...$$\n",
    "$$\\Delta r_n(t) =\\alpha_n + \\beta_{n,1}\\Delta\\phi_1^{PCA}(t) + \\epsilon_n(t) $$\n",
    "\n",
    "where \n",
    "- $\\beta_{k,1}=v_{1,k}$  \n",
    "\n",
    "are exactly the eigenvector associated to $\\lambda_1$ above, or the principal components as calculated by sklearn.decomposition.pca library.\n",
    "\n",
    "Note that we use them to calculate the factor duration $\\frac{dr_i}{d\\phi_j^{PCA}} = \\beta_{i,j}$."
   ]
  },
  {
   "cell_type": "markdown",
   "metadata": {},
   "source": [
    "Let's continue with the slope.\n",
    "\n",
    "The $slope$ $\\Delta\\phi_2^{PCA}(t)$ is set as follows:\n",
    "\n",
    "$$\\Delta\\phi_2^{PCA}(t) = \\sum_{i=1}^n v_{i,k}\\epsilon_k(t)$$\n",
    "\n",
    "where $\\epsilon_1(t), \\epsilon_2(t),...,\\epsilon_n(t)$ are the variations in the various rates that the first PC, $\\Delta\\phi_1^{PCA}(t)$ is not able to capture:\n",
    "\n",
    "$$\\epsilon_i(t)=\\Delta r_i(t) - \\alpha_1 - \\beta_{i,1}\\Delta\\phi_1^{PCA}(t) $$\n",
    "\n",
    "So now we can get the historical time series of the slope based on a statistical analysis.\n",
    "\n",
    "As with the first component, we are doing excatly the following, once the second component is found:\n",
    "\n",
    "$$\\Delta r_1(t) =\\alpha_1 + \\beta_{1,1}\\Delta\\phi_1^{PCA}(t) + \\beta_{1,2}\\Delta\\phi_2^{PCA}(t) + \\epsilon_1(t) $$\n",
    "$$\\Delta r_2(t) =\\alpha_2 + \\beta_{2,1}\\Delta\\phi_1^{PCA}(t) + \\beta_{2,2}\\Delta\\phi_2^{PCA}(t) + \\epsilon_2(t) $$\n",
    "$$...$$\n",
    "$$...$$\n",
    "$$\\Delta r_n(t) =\\alpha_n + \\beta_{n,1}\\Delta\\phi_1^{PCA}(t) + \\beta_{n,2}\\Delta\\phi_2^{PCA}(t) + \\epsilon_n(t) $$\n",
    "\n",
    "And this carries on for the third component.\n",
    "\n",
    "The advantage of proceeding with Principal Components is that we build both the historical series of the level, curvature and slope of yield curve (and their changes), without any arbitrary choice. The only choice we have to make is how back in time we want to go before running the PCA. A choice that we had to do with a factor model anyway. "
   ]
  },
  {
   "cell_type": "markdown",
   "metadata": {},
   "source": [
    "### Plan\n",
    "The way we continue is:\n",
    "1. First, we calculate the principal components of our data set with sklearn.decomposition.pca library.\n",
    "2. We use the principal components to hedge the change of level, slope and curvature of yields arising from a long position in a coupon bond. The hedges are three zero coupon bonds. We call this strategy, PCA hedging.\n",
    "3. We then compare the PCA hedging strategy with a more mainstream hedging where instead we hedge the duration and convexity of the same coupon bond with two zero coupon bonds.\n",
    "4. Lastly we show how to use principal components to explain a large variation of cross-section of yields.\n",
    "\n",
    "We do not cover how the actual calculation of PCA is carried out, as we use sklearn.decomposition.pca library. If you are interested in the steps, you should consult our previous note \"PrincipalComponents_of_Volatility_of_ForwardRates.ipynb\" in this series.    "
   ]
  },
  {
   "cell_type": "markdown",
   "metadata": {},
   "source": [
    "### Load libraries"
   ]
  },
  {
   "cell_type": "code",
   "execution_count": 1,
   "metadata": {},
   "outputs": [
    {
     "name": "stderr",
     "output_type": "stream",
     "text": [
      "C:\\Users\\User\\Anaconda3\\lib\\site-packages\\statsmodels\\compat\\pandas.py:56: FutureWarning: The pandas.core.datetools module is deprecated and will be removed in a future version. Please use the pandas.tseries module instead.\n",
      "  from pandas.core import datetools\n"
     ]
    }
   ],
   "source": [
    "import pandas as pd\n",
    "import numpy as np\n",
    "import matplotlib.pyplot as plt\n",
    "import statsmodels.api as sm\n",
    "import sklearn.decomposition.pca as PCA\n",
    "%matplotlib inline"
   ]
  },
  {
   "cell_type": "markdown",
   "metadata": {},
   "source": [
    "### Read our data set"
   ]
  },
  {
   "cell_type": "code",
   "execution_count": 2,
   "metadata": {},
   "outputs": [
    {
     "name": "stdout",
     "output_type": "stream",
     "text": [
      "(512, 10)\n"
     ]
    },
    {
     "name": "stderr",
     "output_type": "stream",
     "text": [
      "C:\\Users\\User\\Anaconda3\\lib\\site-packages\\ipykernel_launcher.py:1: FutureWarning: from_csv is deprecated. Please use read_csv(...) instead. Note that some of the default arguments are different, so please refer to the documentation for from_csv when changing your function calls\n",
      "  \"\"\"Entry point for launching an IPython kernel.\n"
     ]
    }
   ],
   "source": [
    "dataframe    =  pd.DataFrame.from_csv('SpotRatesData.csv')\n",
    "print (dataframe.shape)"
   ]
  },
  {
   "cell_type": "code",
   "execution_count": 3,
   "metadata": {},
   "outputs": [
    {
     "data": {
      "text/html": [
       "<div>\n",
       "<style scoped>\n",
       "    .dataframe tbody tr th:only-of-type {\n",
       "        vertical-align: middle;\n",
       "    }\n",
       "\n",
       "    .dataframe tbody tr th {\n",
       "        vertical-align: top;\n",
       "    }\n",
       "\n",
       "    .dataframe thead th {\n",
       "        text-align: right;\n",
       "    }\n",
       "</style>\n",
       "<table border=\"1\" class=\"dataframe\">\n",
       "  <thead>\n",
       "    <tr style=\"text-align: right;\">\n",
       "      <th></th>\n",
       "      <th>0.5</th>\n",
       "      <th>1</th>\n",
       "      <th>2</th>\n",
       "      <th>3</th>\n",
       "      <th>4</th>\n",
       "      <th>5</th>\n",
       "      <th>7</th>\n",
       "      <th>10</th>\n",
       "      <th>15</th>\n",
       "      <th>20</th>\n",
       "    </tr>\n",
       "    <tr>\n",
       "      <th>Tenor</th>\n",
       "      <th></th>\n",
       "      <th></th>\n",
       "      <th></th>\n",
       "      <th></th>\n",
       "      <th></th>\n",
       "      <th></th>\n",
       "      <th></th>\n",
       "      <th></th>\n",
       "      <th></th>\n",
       "      <th></th>\n",
       "    </tr>\n",
       "  </thead>\n",
       "  <tbody>\n",
       "    <tr>\n",
       "      <th>508</th>\n",
       "      <td>0.045093</td>\n",
       "      <td>0.043782</td>\n",
       "      <td>0.043077</td>\n",
       "      <td>0.043195</td>\n",
       "      <td>0.043409</td>\n",
       "      <td>0.043601</td>\n",
       "      <td>0.043870</td>\n",
       "      <td>0.044037</td>\n",
       "      <td>0.043900</td>\n",
       "      <td>0.043276</td>\n",
       "    </tr>\n",
       "    <tr>\n",
       "      <th>509</th>\n",
       "      <td>0.044976</td>\n",
       "      <td>0.043714</td>\n",
       "      <td>0.043071</td>\n",
       "      <td>0.043211</td>\n",
       "      <td>0.043435</td>\n",
       "      <td>0.043635</td>\n",
       "      <td>0.043915</td>\n",
       "      <td>0.044090</td>\n",
       "      <td>0.043951</td>\n",
       "      <td>0.043325</td>\n",
       "    </tr>\n",
       "    <tr>\n",
       "      <th>510</th>\n",
       "      <td>0.045311</td>\n",
       "      <td>0.044303</td>\n",
       "      <td>0.043959</td>\n",
       "      <td>0.044234</td>\n",
       "      <td>0.044536</td>\n",
       "      <td>0.044790</td>\n",
       "      <td>0.045141</td>\n",
       "      <td>0.045355</td>\n",
       "      <td>0.045180</td>\n",
       "      <td>0.044494</td>\n",
       "    </tr>\n",
       "    <tr>\n",
       "      <th>511</th>\n",
       "      <td>0.045347</td>\n",
       "      <td>0.044265</td>\n",
       "      <td>0.043883</td>\n",
       "      <td>0.044159</td>\n",
       "      <td>0.044471</td>\n",
       "      <td>0.044735</td>\n",
       "      <td>0.045100</td>\n",
       "      <td>0.045316</td>\n",
       "      <td>0.045118</td>\n",
       "      <td>0.044410</td>\n",
       "    </tr>\n",
       "    <tr>\n",
       "      <th>512</th>\n",
       "      <td>0.045251</td>\n",
       "      <td>0.044083</td>\n",
       "      <td>0.043624</td>\n",
       "      <td>0.043832</td>\n",
       "      <td>0.044075</td>\n",
       "      <td>0.044284</td>\n",
       "      <td>0.044606</td>\n",
       "      <td>0.044876</td>\n",
       "      <td>0.044755</td>\n",
       "      <td>0.044041</td>\n",
       "    </tr>\n",
       "  </tbody>\n",
       "</table>\n",
       "</div>"
      ],
      "text/plain": [
       "            0.5         1         2         3         4         5         7  \\\n",
       "Tenor                                                                         \n",
       "508    0.045093  0.043782  0.043077  0.043195  0.043409  0.043601  0.043870   \n",
       "509    0.044976  0.043714  0.043071  0.043211  0.043435  0.043635  0.043915   \n",
       "510    0.045311  0.044303  0.043959  0.044234  0.044536  0.044790  0.045141   \n",
       "511    0.045347  0.044265  0.043883  0.044159  0.044471  0.044735  0.045100   \n",
       "512    0.045251  0.044083  0.043624  0.043832  0.044075  0.044284  0.044606   \n",
       "\n",
       "             10        15        20  \n",
       "Tenor                                \n",
       "508    0.044037  0.043900  0.043276  \n",
       "509    0.044090  0.043951  0.043325  \n",
       "510    0.045355  0.045180  0.044494  \n",
       "511    0.045316  0.045118  0.044410  \n",
       "512    0.044876  0.044755  0.044041  "
      ]
     },
     "execution_count": 3,
     "metadata": {},
     "output_type": "execute_result"
    }
   ],
   "source": [
    "dataframe.tail()"
   ]
  },
  {
   "cell_type": "markdown",
   "metadata": {},
   "source": [
    "NOTE THAT THIS DATA SET DOES NOT REPRESENT ANY REAL HISTORICAL DATA.  "
   ]
  },
  {
   "cell_type": "markdown",
   "metadata": {},
   "source": [
    "### Plot our data set"
   ]
  },
  {
   "cell_type": "code",
   "execution_count": 4,
   "metadata": {},
   "outputs": [
    {
     "data": {
      "image/png": "[encoded data removed]",
      "text/plain": [
       "<Figure size 1152x288 with 2 Axes>"
      ]
     },
     "metadata": {},
     "output_type": "display_data"
    }
   ],
   "source": [
    "tenors        = [float(x) for x in dataframe.columns]\n",
    "hist_rates    = np.matrix(dataframe)\n",
    "\n",
    "plt.figure(figsize=(16,4))\n",
    "plt.subplot(121)\n",
    "plt.plot(hist_rates)\n",
    "plt.xlabel(r'Time $t$ ')\n",
    "plt.title(r'Historical continously compounded $r(t,T)$ by $T$')\n",
    "plt.grid(True)\n",
    "plt.ylabel('spot rates')\n",
    "\n",
    "plt.subplot(122)\n",
    "plt.plot(tenors, hist_rates.transpose())\n",
    "plt.xlabel(r'Maturity $T$') \n",
    "plt.title(r'Historical continously compounded $r(t,T)$ by $T$')\n",
    "plt.grid(True)\n",
    "plt.ylabel('spot rates')\n",
    "plt.show()"
   ]
  },
  {
   "cell_type": "markdown",
   "metadata": {},
   "source": [
    "### Differentiate the series of spot rates"
   ]
  },
  {
   "cell_type": "code",
   "execution_count": 5,
   "metadata": {},
   "outputs": [],
   "source": [
    "hist_rates = np.matrix(dataframe)\n",
    "diff_rates = np.diff(hist_rates, axis=0)"
   ]
  },
  {
   "cell_type": "markdown",
   "metadata": {},
   "source": [
    "### Calculate pca's using sklearn library"
   ]
  },
  {
   "cell_type": "code",
   "execution_count": 6,
   "metadata": {},
   "outputs": [
    {
     "data": {
      "text/plain": [
       "PCA(copy=True, iterated_power='auto', n_components=3, random_state=None,\n",
       "  svd_solver='auto', tol=0.0, whiten=False)"
      ]
     },
     "execution_count": 6,
     "metadata": {},
     "output_type": "execute_result"
    }
   ],
   "source": [
    "pca = PCA.PCA(n_components=3)\n",
    "pca.fit(diff_rates)"
   ]
  },
  {
   "cell_type": "code",
   "execution_count": 7,
   "metadata": {},
   "outputs": [
    {
     "data": {
      "image/png": "[encoded data removed]",
      "text/plain": [
       "<Figure size 1152x288 with 3 Axes>"
      ]
     },
     "metadata": {},
     "output_type": "display_data"
    }
   ],
   "source": [
    "def PlottingVolatilityFactors(dati, xlab, ylab):    \n",
    "    plt.plot(dati, marker='.')    \n",
    "    plt.grid(True)\n",
    "    plt.xlabel(xlab)\n",
    "    plt.ylabel(ylab)\n",
    "    \n",
    "plt.figure(figsize=(16,4))\n",
    "plt.subplot(1, 3, 1), PlottingVolatilityFactors(pca.explained_variance_ratio_, \"Principal Components\", \"Explained Variance\");\n",
    "plt.subplot(1, 3, 2), PlottingVolatilityFactors(pca.components_[0:3].T, \"Maturity\", \"\");\n",
    "plt.subplot(1, 3, 3), PlottingVolatilityFactors(pca.transform(diff_rates)[:,0:3],  \"Time\",\"\");\n",
    "plt.show()"
   ]
  },
  {
   "cell_type": "markdown",
   "metadata": {},
   "source": [
    "Note that we prefer using minus second component to preserve the upward sloping feature of the curve.\n",
    "\n",
    "This will not change the result of our analysis.\n",
    "\n",
    "The -second component is still orthogonal to the other two."
   ]
  },
  {
   "cell_type": "code",
   "execution_count": 8,
   "metadata": {},
   "outputs": [
    {
     "data": {
      "image/png": "[encoded data removed]",
      "text/plain": [
       "<Figure size 1152x288 with 3 Axes>"
      ]
     },
     "metadata": {},
     "output_type": "display_data"
    }
   ],
   "source": [
    "# Note that we are using minus second component. This will not change the result of our analysis.\n",
    "# The -second component is still orthogonal to the other two.  \n",
    "def PlottingVolatilityFactors(tenors, dati,xlab, ylab, title):    \n",
    "    plt.plot(tenors, dati, marker='.')    \n",
    "    plt.grid(True)\n",
    "    plt.xlabel(xlab)\n",
    "    plt.ylabel(ylab)\n",
    "    plt.title(title)\n",
    "    ymin, ymax = -0.6, 0.6\n",
    "    plt.ylim(ymin, ymax)\n",
    "    \n",
    "plt.figure(figsize=(16,4))\n",
    "plt.subplot(1, 3, 1), PlottingVolatilityFactors(tenors, pca.components_[0].T,  \"Maturity\", \"Coefficients\", \"1st Component - the level\");\n",
    "plt.subplot(1, 3, 2), PlottingVolatilityFactors(tenors, -pca.components_[1].T, \"Maturity\", \"Coefficients\", \"2nd Component - the slope\");\n",
    "plt.subplot(1, 3, 3), PlottingVolatilityFactors(tenors, pca.components_[2].T,  \"Maturity\", \"Coefficients\", \"3rd Component - the curvature\");\n",
    "plt.show()"
   ]
  },
  {
   "cell_type": "code",
   "execution_count": 9,
   "metadata": {},
   "outputs": [
    {
     "data": {
      "text/html": [
       "<div>\n",
       "<style scoped>\n",
       "    .dataframe tbody tr th:only-of-type {\n",
       "        vertical-align: middle;\n",
       "    }\n",
       "\n",
       "    .dataframe tbody tr th {\n",
       "        vertical-align: top;\n",
       "    }\n",
       "\n",
       "    .dataframe thead th {\n",
       "        text-align: right;\n",
       "    }\n",
       "</style>\n",
       "<table border=\"1\" class=\"dataframe\">\n",
       "  <thead>\n",
       "    <tr style=\"text-align: right;\">\n",
       "      <th></th>\n",
       "      <th>0.5</th>\n",
       "      <th>1</th>\n",
       "      <th>2</th>\n",
       "      <th>3</th>\n",
       "      <th>4</th>\n",
       "      <th>5</th>\n",
       "      <th>7</th>\n",
       "      <th>10</th>\n",
       "      <th>15</th>\n",
       "      <th>20</th>\n",
       "    </tr>\n",
       "  </thead>\n",
       "  <tbody>\n",
       "    <tr>\n",
       "      <th>Level</th>\n",
       "      <td>0.2526</td>\n",
       "      <td>0.3131</td>\n",
       "      <td>0.3517</td>\n",
       "      <td>0.3569</td>\n",
       "      <td>0.3537</td>\n",
       "      <td>0.3478</td>\n",
       "      <td>0.3342</td>\n",
       "      <td>0.3122</td>\n",
       "      <td>0.2721</td>\n",
       "      <td>0.2404</td>\n",
       "    </tr>\n",
       "    <tr>\n",
       "      <th>Slope</th>\n",
       "      <td>-0.7449</td>\n",
       "      <td>-0.4472</td>\n",
       "      <td>-0.0814</td>\n",
       "      <td>0.0461</td>\n",
       "      <td>0.1019</td>\n",
       "      <td>0.1344</td>\n",
       "      <td>0.1781</td>\n",
       "      <td>0.2196</td>\n",
       "      <td>0.2485</td>\n",
       "      <td>0.2575</td>\n",
       "    </tr>\n",
       "    <tr>\n",
       "      <th>Curvature</th>\n",
       "      <td>-0.3888</td>\n",
       "      <td>0.0567</td>\n",
       "      <td>0.3981</td>\n",
       "      <td>0.3703</td>\n",
       "      <td>0.2592</td>\n",
       "      <td>0.1374</td>\n",
       "      <td>-0.0718</td>\n",
       "      <td>-0.2663</td>\n",
       "      <td>-0.4062</td>\n",
       "      <td>-0.4721</td>\n",
       "    </tr>\n",
       "  </tbody>\n",
       "</table>\n",
       "</div>"
      ],
      "text/plain": [
       "              0.5       1       2       3       4       5       7      10  \\\n",
       "Level      0.2526  0.3131  0.3517  0.3569  0.3537  0.3478  0.3342  0.3122   \n",
       "Slope     -0.7449 -0.4472 -0.0814  0.0461  0.1019  0.1344  0.1781  0.2196   \n",
       "Curvature -0.3888  0.0567  0.3981  0.3703  0.2592  0.1374 -0.0718 -0.2663   \n",
       "\n",
       "               15      20  \n",
       "Level      0.2721  0.2404  \n",
       "Slope      0.2485  0.2575  \n",
       "Curvature -0.4062 -0.4721  "
      ]
     },
     "execution_count": 9,
     "metadata": {},
     "output_type": "execute_result"
    }
   ],
   "source": [
    "BetasPCA = pd.DataFrame(np.round(pca.components_[0:3],4))\n",
    "BetasPCA.columns = dataframe.columns\n",
    "BetasPCA.loc[1] = -BetasPCA.loc[1]\n",
    "BetasPCA = BetasPCA.rename(index={0: \"Level\", 1:\"Slope\", 2:\"Curvature\"})\n",
    "BetasPCA"
   ]
  },
  {
   "cell_type": "markdown",
   "metadata": {},
   "source": [
    "### Plot two spot curves: last one vs 20 days earlier"
   ]
  },
  {
   "cell_type": "code",
   "execution_count": 10,
   "metadata": {},
   "outputs": [
    {
     "data": {
      "image/png": "[encoded data removed]",
      "text/plain": [
       "<Figure size 1152x288 with 1 Axes>"
      ]
     },
     "metadata": {},
     "output_type": "display_data"
    }
   ],
   "source": [
    "plt.figure(figsize=(16,4))\n",
    "plt.plot(tenors, hist_rates[-1].transpose(),  marker='.',  label='Spot Curve')\n",
    "plt.plot(tenors, hist_rates[-20].transpose(), marker='.',  label='Spot Curve t - 20 days')\n",
    "plt.xlabel(r'Maturity $T$') \n",
    "plt.title(r'Spot Curves')\n",
    "plt.grid(True)\n",
    "plt.ylabel('Rates')\n",
    "plt.legend()\n",
    "plt.show()    "
   ]
  },
  {
   "cell_type": "markdown",
   "metadata": {},
   "source": [
    "### Fitting"
   ]
  },
  {
   "cell_type": "code",
   "execution_count": 11,
   "metadata": {},
   "outputs": [],
   "source": [
    "from scipy.interpolate import splrep, splev\n",
    "\n",
    "def fitting(x, x1, y1):\n",
    "        ret = splrep(x1, y1)\n",
    "        return splev(x, ret)"
   ]
  },
  {
   "cell_type": "code",
   "execution_count": 12,
   "metadata": {},
   "outputs": [
    {
     "data": {
      "image/png": "[encoded data removed]",
      "text/plain": [
       "<Figure size 1152x288 with 1 Axes>"
      ]
     },
     "metadata": {},
     "output_type": "display_data"
    }
   ],
   "source": [
    "xx_tenors = np.linspace(0.,20,401)\n",
    "#print(xx_tenors[10:])\n",
    "\n",
    "def FittingRates(x, tenors, Rates):\n",
    "    fitted_rates = SplineInterpolator(tenors, Rates)     \n",
    "    return fitted_rates.fitting(x)\n",
    "\n",
    "\n",
    "FittedSpotRates = [fitting(x, tenors,hist_rates[-20].transpose()) for x in xx_tenors[10:]]\n",
    "plt.figure(figsize=(16,4))\n",
    "plt.plot(tenors,hist_rates[-20].transpose(), marker='*', label='Current Spot Rates')    \n",
    "plt.plot(xx_tenors[10:], FittedSpotRates,    marker='.', label='Splined Spot Rates')\n",
    "plt.xlabel(r'Maturity $T$')\n",
    "plt.ylabel('$r(t,T)$')\n",
    "plt.title('continously compounded Spot Rates')\n",
    "plt.grid(True)\n",
    "plt.legend();"
   ]
  },
  {
   "cell_type": "code",
   "execution_count": 13,
   "metadata": {},
   "outputs": [],
   "source": [
    "SpotBefore = np.squeeze(np.asarray(hist_rates[-20,:]))\n",
    "SpotToDay  = np.squeeze(np.asarray(hist_rates[-1,:]))"
   ]
  },
  {
   "cell_type": "markdown",
   "metadata": {},
   "source": [
    "### The Portfolio: 4.75% coupon bond, with a maturity of 11 years"
   ]
  },
  {
   "cell_type": "code",
   "execution_count": 14,
   "metadata": {},
   "outputs": [],
   "source": [
    "Time        = [x/2.0 for x in range(1, 23)]\n",
    "CF          = [0.0475/2.0 for x in range(22)]\n",
    "CF[-1] +=1 \n",
    "DF          = [np.exp(-fitting(x, tenors,SpotBefore)*x) for x in Time]\n",
    "DFToDay     = [np.exp(-fitting(x, tenors,SpotToDay)*x)  for x in Time]\n",
    "Price       = sum([a*b      for a, b    in zip(DF,CF)])\n",
    "\n",
    "PriceToDay  = sum([a*b      for a, b    in zip(DFToDay,CF)])\n",
    "PC1         = [ fitting(x, tenors,pca.components_[0])  for x in Time]\n",
    "PC2         = [-fitting(x, tenors,pca.components_[1])  for x in Time]\n",
    "PC3         = [ fitting(x, tenors,pca.components_[2])  for x in Time]"
   ]
  },
  {
   "cell_type": "code",
   "execution_count": 15,
   "metadata": {},
   "outputs": [],
   "source": [
    "# Duration and Convexity: the price derivative is taken with respect to the contonousy compounded spot rate, \n",
    "# so no need to divide by 1+rate/2\n",
    "Dur         = sum([a*b*c    for a, b, c in zip(DF,CF,Time)])/Price\n",
    "Conv        = sum([a*b*c**2 for a, b, c in zip(DF,CF,Time)])/Price"
   ]
  },
  {
   "cell_type": "markdown",
   "metadata": {},
   "source": [
    "Note, we are using the factor duration for the PC's factors"
   ]
  },
  {
   "cell_type": "code",
   "execution_count": 16,
   "metadata": {},
   "outputs": [],
   "source": [
    "RiskPC1     = sum([a*b*c*d  for a, b, c, d in zip(DF, CF, PC1, Time)])/Price\n",
    "RiskPC2     = sum([a*b*c*d  for a, b, c, d in zip(DF, CF, PC2, Time)])/Price\n",
    "RiskPC3     = sum([a*b*c*d  for a, b, c, d in zip(DF, CF, PC3, Time)])/Price"
   ]
  },
  {
   "cell_type": "code",
   "execution_count": 17,
   "metadata": {},
   "outputs": [
    {
     "name": "stdout",
     "output_type": "stream",
     "text": [
      "the % change in the Price of the CB is \n",
      "1.28 %\n"
     ]
    }
   ],
   "source": [
    "print(\"the % change in the Price of the CB is \")\n",
    "print(100*np.round((PriceToDay - Price)/Price,4),\"%\")"
   ]
  },
  {
   "cell_type": "code",
   "execution_count": 18,
   "metadata": {},
   "outputs": [
    {
     "data": {
      "text/html": [
       "<div>\n",
       "<style scoped>\n",
       "    .dataframe tbody tr th:only-of-type {\n",
       "        vertical-align: middle;\n",
       "    }\n",
       "\n",
       "    .dataframe tbody tr th {\n",
       "        vertical-align: top;\n",
       "    }\n",
       "\n",
       "    .dataframe thead th {\n",
       "        text-align: right;\n",
       "    }\n",
       "</style>\n",
       "<table border=\"1\" class=\"dataframe\">\n",
       "  <thead>\n",
       "    <tr style=\"text-align: right;\">\n",
       "      <th></th>\n",
       "      <th>Time</th>\n",
       "      <th>DFBefore</th>\n",
       "      <th>DFToDay</th>\n",
       "      <th>Cash Flows</th>\n",
       "      <th>PC1</th>\n",
       "      <th>PC2</th>\n",
       "      <th>PC3</th>\n",
       "    </tr>\n",
       "  </thead>\n",
       "  <tbody>\n",
       "    <tr>\n",
       "      <th>0</th>\n",
       "      <td>0.5</td>\n",
       "      <td>0.977720</td>\n",
       "      <td>0.977628</td>\n",
       "      <td>0.02375</td>\n",
       "      <td>0.253</td>\n",
       "      <td>-0.745</td>\n",
       "      <td>-0.389</td>\n",
       "    </tr>\n",
       "    <tr>\n",
       "      <th>1</th>\n",
       "      <td>1.0</td>\n",
       "      <td>0.956532</td>\n",
       "      <td>0.956874</td>\n",
       "      <td>0.02375</td>\n",
       "      <td>0.313</td>\n",
       "      <td>-0.447</td>\n",
       "      <td>0.057</td>\n",
       "    </tr>\n",
       "    <tr>\n",
       "      <th>2</th>\n",
       "      <td>1.5</td>\n",
       "      <td>0.935690</td>\n",
       "      <td>0.936618</td>\n",
       "      <td>0.02375</td>\n",
       "      <td>0.341</td>\n",
       "      <td>-0.228</td>\n",
       "      <td>0.299</td>\n",
       "    </tr>\n",
       "    <tr>\n",
       "      <th>3</th>\n",
       "      <td>2.0</td>\n",
       "      <td>0.914917</td>\n",
       "      <td>0.916449</td>\n",
       "      <td>0.02375</td>\n",
       "      <td>0.352</td>\n",
       "      <td>-0.081</td>\n",
       "      <td>0.398</td>\n",
       "    </tr>\n",
       "    <tr>\n",
       "      <th>4</th>\n",
       "      <td>2.5</td>\n",
       "      <td>0.894289</td>\n",
       "      <td>0.896480</td>\n",
       "      <td>0.02375</td>\n",
       "      <td>0.356</td>\n",
       "      <td>0.001</td>\n",
       "      <td>0.408</td>\n",
       "    </tr>\n",
       "    <tr>\n",
       "      <th>5</th>\n",
       "      <td>3.0</td>\n",
       "      <td>0.873881</td>\n",
       "      <td>0.876783</td>\n",
       "      <td>0.02375</td>\n",
       "      <td>0.357</td>\n",
       "      <td>0.046</td>\n",
       "      <td>0.370</td>\n",
       "    </tr>\n",
       "    <tr>\n",
       "      <th>6</th>\n",
       "      <td>3.5</td>\n",
       "      <td>0.853764</td>\n",
       "      <td>0.857403</td>\n",
       "      <td>0.02375</td>\n",
       "      <td>0.356</td>\n",
       "      <td>0.078</td>\n",
       "      <td>0.318</td>\n",
       "    </tr>\n",
       "    <tr>\n",
       "      <th>7</th>\n",
       "      <td>4.0</td>\n",
       "      <td>0.833980</td>\n",
       "      <td>0.838365</td>\n",
       "      <td>0.02375</td>\n",
       "      <td>0.354</td>\n",
       "      <td>0.102</td>\n",
       "      <td>0.259</td>\n",
       "    </tr>\n",
       "    <tr>\n",
       "      <th>8</th>\n",
       "      <td>4.5</td>\n",
       "      <td>0.814557</td>\n",
       "      <td>0.819689</td>\n",
       "      <td>0.02375</td>\n",
       "      <td>0.351</td>\n",
       "      <td>0.120</td>\n",
       "      <td>0.198</td>\n",
       "    </tr>\n",
       "    <tr>\n",
       "      <th>9</th>\n",
       "      <td>5.0</td>\n",
       "      <td>0.795518</td>\n",
       "      <td>0.801378</td>\n",
       "      <td>0.02375</td>\n",
       "      <td>0.348</td>\n",
       "      <td>0.134</td>\n",
       "      <td>0.137</td>\n",
       "    </tr>\n",
       "    <tr>\n",
       "      <th>10</th>\n",
       "      <td>5.5</td>\n",
       "      <td>0.776884</td>\n",
       "      <td>0.783434</td>\n",
       "      <td>0.02375</td>\n",
       "      <td>0.345</td>\n",
       "      <td>0.147</td>\n",
       "      <td>0.079</td>\n",
       "    </tr>\n",
       "    <tr>\n",
       "      <th>11</th>\n",
       "      <td>6.0</td>\n",
       "      <td>0.758671</td>\n",
       "      <td>0.765856</td>\n",
       "      <td>0.02375</td>\n",
       "      <td>0.341</td>\n",
       "      <td>0.158</td>\n",
       "      <td>0.025</td>\n",
       "    </tr>\n",
       "    <tr>\n",
       "      <th>12</th>\n",
       "      <td>6.5</td>\n",
       "      <td>0.740888</td>\n",
       "      <td>0.748645</td>\n",
       "      <td>0.02375</td>\n",
       "      <td>0.338</td>\n",
       "      <td>0.169</td>\n",
       "      <td>-0.026</td>\n",
       "    </tr>\n",
       "    <tr>\n",
       "      <th>13</th>\n",
       "      <td>7.0</td>\n",
       "      <td>0.723544</td>\n",
       "      <td>0.731802</td>\n",
       "      <td>0.02375</td>\n",
       "      <td>0.334</td>\n",
       "      <td>0.178</td>\n",
       "      <td>-0.072</td>\n",
       "    </tr>\n",
       "    <tr>\n",
       "      <th>14</th>\n",
       "      <td>7.5</td>\n",
       "      <td>0.706645</td>\n",
       "      <td>0.715325</td>\n",
       "      <td>0.02375</td>\n",
       "      <td>0.331</td>\n",
       "      <td>0.187</td>\n",
       "      <td>-0.114</td>\n",
       "    </tr>\n",
       "    <tr>\n",
       "      <th>15</th>\n",
       "      <td>8.0</td>\n",
       "      <td>0.690189</td>\n",
       "      <td>0.699214</td>\n",
       "      <td>0.02375</td>\n",
       "      <td>0.327</td>\n",
       "      <td>0.195</td>\n",
       "      <td>-0.151</td>\n",
       "    </tr>\n",
       "    <tr>\n",
       "      <th>16</th>\n",
       "      <td>8.5</td>\n",
       "      <td>0.674173</td>\n",
       "      <td>0.683469</td>\n",
       "      <td>0.02375</td>\n",
       "      <td>0.323</td>\n",
       "      <td>0.202</td>\n",
       "      <td>-0.185</td>\n",
       "    </tr>\n",
       "    <tr>\n",
       "      <th>17</th>\n",
       "      <td>9.0</td>\n",
       "      <td>0.658592</td>\n",
       "      <td>0.668089</td>\n",
       "      <td>0.02375</td>\n",
       "      <td>0.320</td>\n",
       "      <td>0.208</td>\n",
       "      <td>-0.215</td>\n",
       "    </tr>\n",
       "    <tr>\n",
       "      <th>18</th>\n",
       "      <td>9.5</td>\n",
       "      <td>0.643437</td>\n",
       "      <td>0.653073</td>\n",
       "      <td>0.02375</td>\n",
       "      <td>0.316</td>\n",
       "      <td>0.214</td>\n",
       "      <td>-0.242</td>\n",
       "    </tr>\n",
       "    <tr>\n",
       "      <th>19</th>\n",
       "      <td>10.0</td>\n",
       "      <td>0.628700</td>\n",
       "      <td>0.638421</td>\n",
       "      <td>0.02375</td>\n",
       "      <td>0.312</td>\n",
       "      <td>0.220</td>\n",
       "      <td>-0.266</td>\n",
       "    </tr>\n",
       "    <tr>\n",
       "      <th>20</th>\n",
       "      <td>10.5</td>\n",
       "      <td>0.614368</td>\n",
       "      <td>0.624130</td>\n",
       "      <td>0.02375</td>\n",
       "      <td>0.308</td>\n",
       "      <td>0.224</td>\n",
       "      <td>-0.288</td>\n",
       "    </tr>\n",
       "    <tr>\n",
       "      <th>21</th>\n",
       "      <td>11.0</td>\n",
       "      <td>0.600435</td>\n",
       "      <td>0.610197</td>\n",
       "      <td>1.02375</td>\n",
       "      <td>0.304</td>\n",
       "      <td>0.229</td>\n",
       "      <td>-0.308</td>\n",
       "    </tr>\n",
       "  </tbody>\n",
       "</table>\n",
       "</div>"
      ],
      "text/plain": [
       "    Time  DFBefore   DFToDay  Cash Flows    PC1    PC2    PC3\n",
       "0    0.5  0.977720  0.977628     0.02375  0.253 -0.745 -0.389\n",
       "1    1.0  0.956532  0.956874     0.02375  0.313 -0.447  0.057\n",
       "2    1.5  0.935690  0.936618     0.02375  0.341 -0.228  0.299\n",
       "3    2.0  0.914917  0.916449     0.02375  0.352 -0.081  0.398\n",
       "4    2.5  0.894289  0.896480     0.02375  0.356  0.001  0.408\n",
       "5    3.0  0.873881  0.876783     0.02375  0.357  0.046  0.370\n",
       "6    3.5  0.853764  0.857403     0.02375  0.356  0.078  0.318\n",
       "7    4.0  0.833980  0.838365     0.02375  0.354  0.102  0.259\n",
       "8    4.5  0.814557  0.819689     0.02375  0.351  0.120  0.198\n",
       "9    5.0  0.795518  0.801378     0.02375  0.348  0.134  0.137\n",
       "10   5.5  0.776884  0.783434     0.02375  0.345  0.147  0.079\n",
       "11   6.0  0.758671  0.765856     0.02375  0.341  0.158  0.025\n",
       "12   6.5  0.740888  0.748645     0.02375  0.338  0.169 -0.026\n",
       "13   7.0  0.723544  0.731802     0.02375  0.334  0.178 -0.072\n",
       "14   7.5  0.706645  0.715325     0.02375  0.331  0.187 -0.114\n",
       "15   8.0  0.690189  0.699214     0.02375  0.327  0.195 -0.151\n",
       "16   8.5  0.674173  0.683469     0.02375  0.323  0.202 -0.185\n",
       "17   9.0  0.658592  0.668089     0.02375  0.320  0.208 -0.215\n",
       "18   9.5  0.643437  0.653073     0.02375  0.316  0.214 -0.242\n",
       "19  10.0  0.628700  0.638421     0.02375  0.312  0.220 -0.266\n",
       "20  10.5  0.614368  0.624130     0.02375  0.308  0.224 -0.288\n",
       "21  11.0  0.600435  0.610197     1.02375  0.304  0.229 -0.308"
      ]
     },
     "execution_count": 18,
     "metadata": {},
     "output_type": "execute_result"
    }
   ],
   "source": [
    "Portfolio = pd.DataFrame({'Time': Time, 'DFBefore': DF,'DFToDay':DFToDay,\\\n",
    "                          'Cash Flows':CF, 'PC1':np.round(PC1,3),'PC2':np.round(PC2,3), 'PC3':np.round(PC3,3)}, \\\n",
    "                         columns=['Time','DFBefore', 'DFToDay', 'Cash Flows', 'PC1','PC2','PC3'])\n",
    "Portfolio"
   ]
  },
  {
   "cell_type": "code",
   "execution_count": 19,
   "metadata": {},
   "outputs": [
    {
     "data": {
      "text/html": [
       "<div>\n",
       "<style scoped>\n",
       "    .dataframe tbody tr th:only-of-type {\n",
       "        vertical-align: middle;\n",
       "    }\n",
       "\n",
       "    .dataframe tbody tr th {\n",
       "        vertical-align: top;\n",
       "    }\n",
       "\n",
       "    .dataframe thead th {\n",
       "        text-align: right;\n",
       "    }\n",
       "</style>\n",
       "<table border=\"1\" class=\"dataframe\">\n",
       "  <thead>\n",
       "    <tr style=\"text-align: right;\">\n",
       "      <th></th>\n",
       "      <th>Value</th>\n",
       "      <th>Units</th>\n",
       "      <th>Price</th>\n",
       "      <th>PriceToDay</th>\n",
       "      <th>Dur</th>\n",
       "      <th>Conv</th>\n",
       "      <th>PC1</th>\n",
       "      <th>PC2</th>\n",
       "      <th>PC3</th>\n",
       "    </tr>\n",
       "  </thead>\n",
       "  <tbody>\n",
       "    <tr>\n",
       "      <th>0</th>\n",
       "      <td>100000000</td>\n",
       "      <td>9.942477e+07</td>\n",
       "      <td>1.005786</td>\n",
       "      <td>1.018681</td>\n",
       "      <td>8.695</td>\n",
       "      <td>87.477</td>\n",
       "      <td>2.701</td>\n",
       "      <td>1.822</td>\n",
       "      <td>-2.138</td>\n",
       "    </tr>\n",
       "  </tbody>\n",
       "</table>\n",
       "</div>"
      ],
      "text/plain": [
       "       Value         Units     Price  PriceToDay    Dur    Conv    PC1    PC2  \\\n",
       "0  100000000  9.942477e+07  1.005786    1.018681  8.695  87.477  2.701  1.822   \n",
       "\n",
       "     PC3  \n",
       "0 -2.138  "
      ]
     },
     "execution_count": 19,
     "metadata": {},
     "output_type": "execute_result"
    }
   ],
   "source": [
    "PortfolioRisks = pd.DataFrame({'Value': 100000000, 'Units': 100000000/Price,\\\n",
    "                               'Price': Price, 'PriceToDay':PriceToDay,\\\n",
    "                               'Dur':[np.round(Dur,3)], 'Conv':[np.round(Conv,3)], \\\n",
    "                               'PC1':[np.round(RiskPC1,3)],'PC2':[np.round(RiskPC2,3)], \\\n",
    "                               'PC3':[np.round(RiskPC3,3)]},\\\n",
    "                              columns=['Value', 'Units','Price','PriceToDay','Dur', 'Conv', 'PC1','PC2','PC3'])\n",
    "PortfolioRisks"
   ]
  },
  {
   "cell_type": "markdown",
   "metadata": {},
   "source": [
    "### The Hedges: 3 ZCBs with maturities of 1, 6 and 10 years"
   ]
  },
  {
   "cell_type": "code",
   "execution_count": 20,
   "metadata": {},
   "outputs": [
    {
     "data": {
      "text/html": [
       "<div>\n",
       "<style scoped>\n",
       "    .dataframe tbody tr th:only-of-type {\n",
       "        vertical-align: middle;\n",
       "    }\n",
       "\n",
       "    .dataframe tbody tr th {\n",
       "        vertical-align: top;\n",
       "    }\n",
       "\n",
       "    .dataframe thead th {\n",
       "        text-align: right;\n",
       "    }\n",
       "</style>\n",
       "<table border=\"1\" class=\"dataframe\">\n",
       "  <thead>\n",
       "    <tr style=\"text-align: right;\">\n",
       "      <th></th>\n",
       "      <th>Time</th>\n",
       "      <th>DFBefore</th>\n",
       "      <th>DFToDay</th>\n",
       "      <th>PC1</th>\n",
       "      <th>PC2</th>\n",
       "      <th>PC3</th>\n",
       "    </tr>\n",
       "  </thead>\n",
       "  <tbody>\n",
       "    <tr>\n",
       "      <th>0</th>\n",
       "      <td>0.5</td>\n",
       "      <td>0.977720</td>\n",
       "      <td>0.977628</td>\n",
       "      <td>0.253</td>\n",
       "      <td>-0.745</td>\n",
       "      <td>-0.389</td>\n",
       "    </tr>\n",
       "    <tr>\n",
       "      <th>9</th>\n",
       "      <td>5.0</td>\n",
       "      <td>0.795518</td>\n",
       "      <td>0.801378</td>\n",
       "      <td>0.348</td>\n",
       "      <td>0.134</td>\n",
       "      <td>0.137</td>\n",
       "    </tr>\n",
       "    <tr>\n",
       "      <th>19</th>\n",
       "      <td>10.0</td>\n",
       "      <td>0.628700</td>\n",
       "      <td>0.638421</td>\n",
       "      <td>0.312</td>\n",
       "      <td>0.220</td>\n",
       "      <td>-0.266</td>\n",
       "    </tr>\n",
       "  </tbody>\n",
       "</table>\n",
       "</div>"
      ],
      "text/plain": [
       "    Time  DFBefore   DFToDay    PC1    PC2    PC3\n",
       "0    0.5  0.977720  0.977628  0.253 -0.745 -0.389\n",
       "9    5.0  0.795518  0.801378  0.348  0.134  0.137\n",
       "19  10.0  0.628700  0.638421  0.312  0.220 -0.266"
      ]
     },
     "execution_count": 20,
     "metadata": {},
     "output_type": "execute_result"
    }
   ],
   "source": [
    "ZCB1 = Portfolio.loc[Portfolio['Time'] ==  0.5]\n",
    "ZCB2 = Portfolio.loc[Portfolio['Time'] ==  5]\n",
    "ZCB3 = Portfolio.loc[Portfolio['Time'] ==  10]\n",
    "\n",
    "ZCB1 = ZCB1.drop(['Cash Flows'], axis=1)\n",
    "ZCB2 = ZCB2.drop(['Cash Flows'], axis=1)\n",
    "ZCB3 = ZCB3.drop(['Cash Flows'], axis=1)\n",
    "\n",
    "frames = [ZCB1, ZCB2, ZCB3]\n",
    "\n",
    "Hedges = pd.concat(frames)\n",
    "Hedges"
   ]
  },
  {
   "cell_type": "markdown",
   "metadata": {},
   "source": [
    "Note, we are using the factor duration for the PC's factors"
   ]
  },
  {
   "cell_type": "code",
   "execution_count": 21,
   "metadata": {},
   "outputs": [
    {
     "data": {
      "text/html": [
       "<div>\n",
       "<style scoped>\n",
       "    .dataframe tbody tr th:only-of-type {\n",
       "        vertical-align: middle;\n",
       "    }\n",
       "\n",
       "    .dataframe tbody tr th {\n",
       "        vertical-align: top;\n",
       "    }\n",
       "\n",
       "    .dataframe thead th {\n",
       "        text-align: right;\n",
       "    }\n",
       "</style>\n",
       "<table border=\"1\" class=\"dataframe\">\n",
       "  <thead>\n",
       "    <tr style=\"text-align: right;\">\n",
       "      <th></th>\n",
       "      <th>Time</th>\n",
       "      <th>DFBefore</th>\n",
       "      <th>DFToDay</th>\n",
       "      <th>PC1</th>\n",
       "      <th>PC2</th>\n",
       "      <th>PC3</th>\n",
       "      <th>Dur</th>\n",
       "      <th>Conv</th>\n",
       "    </tr>\n",
       "  </thead>\n",
       "  <tbody>\n",
       "    <tr>\n",
       "      <th>0</th>\n",
       "      <td>0.5</td>\n",
       "      <td>0.977720</td>\n",
       "      <td>0.977628</td>\n",
       "      <td>0.1265</td>\n",
       "      <td>-0.3725</td>\n",
       "      <td>-0.1945</td>\n",
       "      <td>0.5</td>\n",
       "      <td>0.25</td>\n",
       "    </tr>\n",
       "    <tr>\n",
       "      <th>9</th>\n",
       "      <td>5.0</td>\n",
       "      <td>0.795518</td>\n",
       "      <td>0.801378</td>\n",
       "      <td>1.7400</td>\n",
       "      <td>0.6700</td>\n",
       "      <td>0.6850</td>\n",
       "      <td>5.0</td>\n",
       "      <td>25.00</td>\n",
       "    </tr>\n",
       "    <tr>\n",
       "      <th>19</th>\n",
       "      <td>10.0</td>\n",
       "      <td>0.628700</td>\n",
       "      <td>0.638421</td>\n",
       "      <td>3.1200</td>\n",
       "      <td>2.2000</td>\n",
       "      <td>-2.6600</td>\n",
       "      <td>10.0</td>\n",
       "      <td>100.00</td>\n",
       "    </tr>\n",
       "  </tbody>\n",
       "</table>\n",
       "</div>"
      ],
      "text/plain": [
       "    Time  DFBefore   DFToDay     PC1     PC2     PC3   Dur    Conv\n",
       "0    0.5  0.977720  0.977628  0.1265 -0.3725 -0.1945   0.5    0.25\n",
       "9    5.0  0.795518  0.801378  1.7400  0.6700  0.6850   5.0   25.00\n",
       "19  10.0  0.628700  0.638421  3.1200  2.2000 -2.6600  10.0  100.00"
      ]
     },
     "execution_count": 21,
     "metadata": {},
     "output_type": "execute_result"
    }
   ],
   "source": [
    "Hedges.PC1 = Hedges.PC1*Hedges.Time\n",
    "Hedges.PC2 = Hedges.PC2*Hedges.Time\n",
    "Hedges.PC3 = Hedges.PC3*Hedges.Time\n",
    "\n",
    "Hedges[\"Dur\"] = Hedges[\"Time\"]\n",
    "Hedges[\"Conv\"] = Hedges[\"Time\"]*Hedges[\"Time\"]\n",
    "Hedges"
   ]
  },
  {
   "cell_type": "markdown",
   "metadata": {},
   "source": [
    "#### The units of ZCB1, ZCB2 and ZCB3 to hedge level, slope and curvature of the 4.75% CB"
   ]
  },
  {
   "cell_type": "code",
   "execution_count": 22,
   "metadata": {},
   "outputs": [],
   "source": [
    "Mat = np.zeros((3,3))\n",
    "Mat[0:,] = np.array(Hedges.DFBefore*Hedges.PC1)\n",
    "Mat[1:,] = np.array(Hedges.DFBefore*Hedges.PC2)\n",
    "Mat[2:,] = np.array(Hedges.DFBefore*Hedges.PC3)\n",
    "\n",
    "Y = np.zeros(3)\n",
    "# CB\n",
    "Y[0] = PortfolioRisks.Price*PortfolioRisks.PC1\n",
    "Y[1] = PortfolioRisks.Price*PortfolioRisks.PC2\n",
    "Y[2] = PortfolioRisks.Price*PortfolioRisks.PC3\n",
    "\n",
    "#print (Mat)\n",
    "#print (Y)\n",
    "UnitsPC = np.linalg.inv(Mat).dot(Y)\n",
    "Hedges[\"UnitsSold\"] = UnitsPC * np.asarray(PortfolioRisks.Units)"
   ]
  },
  {
   "cell_type": "code",
   "execution_count": 23,
   "metadata": {},
   "outputs": [
    {
     "data": {
      "text/html": [
       "<div>\n",
       "<style scoped>\n",
       "    .dataframe tbody tr th:only-of-type {\n",
       "        vertical-align: middle;\n",
       "    }\n",
       "\n",
       "    .dataframe tbody tr th {\n",
       "        vertical-align: top;\n",
       "    }\n",
       "\n",
       "    .dataframe thead th {\n",
       "        text-align: right;\n",
       "    }\n",
       "</style>\n",
       "<table border=\"1\" class=\"dataframe\">\n",
       "  <thead>\n",
       "    <tr style=\"text-align: right;\">\n",
       "      <th></th>\n",
       "      <th>Time</th>\n",
       "      <th>DFBefore</th>\n",
       "      <th>DFToDay</th>\n",
       "      <th>PC1</th>\n",
       "      <th>PC2</th>\n",
       "      <th>PC3</th>\n",
       "      <th>Dur</th>\n",
       "      <th>Conv</th>\n",
       "      <th>UnitsSold</th>\n",
       "    </tr>\n",
       "  </thead>\n",
       "  <tbody>\n",
       "    <tr>\n",
       "      <th>0</th>\n",
       "      <td>0.5</td>\n",
       "      <td>0.977720</td>\n",
       "      <td>0.977628</td>\n",
       "      <td>0.1265</td>\n",
       "      <td>-0.3725</td>\n",
       "      <td>-0.1945</td>\n",
       "      <td>0.5</td>\n",
       "      <td>0.25</td>\n",
       "      <td>8.502681e+06</td>\n",
       "    </tr>\n",
       "    <tr>\n",
       "      <th>9</th>\n",
       "      <td>5.0</td>\n",
       "      <td>0.795518</td>\n",
       "      <td>0.801378</td>\n",
       "      <td>1.7400</td>\n",
       "      <td>0.6700</td>\n",
       "      <td>0.6850</td>\n",
       "      <td>5.0</td>\n",
       "      <td>25.00</td>\n",
       "      <td>9.969514e+06</td>\n",
       "    </tr>\n",
       "    <tr>\n",
       "      <th>19</th>\n",
       "      <td>10.0</td>\n",
       "      <td>0.628700</td>\n",
       "      <td>0.638421</td>\n",
       "      <td>3.1200</td>\n",
       "      <td>2.2000</td>\n",
       "      <td>-2.6600</td>\n",
       "      <td>10.0</td>\n",
       "      <td>100.00</td>\n",
       "      <td>1.301264e+08</td>\n",
       "    </tr>\n",
       "  </tbody>\n",
       "</table>\n",
       "</div>"
      ],
      "text/plain": [
       "    Time  DFBefore   DFToDay     PC1     PC2     PC3   Dur    Conv  \\\n",
       "0    0.5  0.977720  0.977628  0.1265 -0.3725 -0.1945   0.5    0.25   \n",
       "9    5.0  0.795518  0.801378  1.7400  0.6700  0.6850   5.0   25.00   \n",
       "19  10.0  0.628700  0.638421  3.1200  2.2000 -2.6600  10.0  100.00   \n",
       "\n",
       "       UnitsSold  \n",
       "0   8.502681e+06  \n",
       "9   9.969514e+06  \n",
       "19  1.301264e+08  "
      ]
     },
     "execution_count": 23,
     "metadata": {},
     "output_type": "execute_result"
    }
   ],
   "source": [
    "Hedges"
   ]
  },
  {
   "cell_type": "code",
   "execution_count": 24,
   "metadata": {},
   "outputs": [
    {
     "name": "stdout",
     "output_type": "stream",
     "text": [
      "Value of the Hedges: 98054602.0\n",
      "The Hedges Value has changed by: -1322654.0\n",
      "The Portfolio (long) Value has changed by: 1282086.0\n",
      "The gain or loss of the Hedged Portfolio is: -40568.0\n",
      "The Original Price of the Only Long position was: 1.0058\n",
      "The Current Price of the hedged position is now:  1.0054\n"
     ]
    }
   ],
   "source": [
    "# Value of the Hedges\n",
    "print (\"Value of the Hedges:\",np.round(np.sum(Hedges.DFBefore*Hedges.UnitsSold),0))\n",
    "\n",
    "# The Hedges Value has changed by \n",
    "HedgingDeltaValue = -np.round(np.sum(Hedges.DFToDay*Hedges.UnitsSold) - np.sum(Hedges.DFBefore*Hedges.UnitsSold),0)\n",
    "print(\"The Hedges Value has changed by:\", HedgingDeltaValue)\n",
    "\n",
    "# The Portfolio Value has changed by \n",
    "PortfolioDeltaValue =  np.asarray((np.round(PortfolioRisks.Units * (PortfolioRisks.PriceToDay - PortfolioRisks.Price),0)))\n",
    "print (\"The Portfolio (long) Value has changed by:\", PortfolioDeltaValue[0])\n",
    "\n",
    "# or a gain loss of\n",
    "GainLoss = PortfolioDeltaValue[0] + HedgingDeltaValue\n",
    "print (\"The gain or loss of the Hedged Portfolio is:\", GainLoss) \n",
    "\n",
    "# We can also map the loss into a Portfolio Price change as follows\n",
    "print(\"The Original Price of the Only Long position was:\", np.round(np.asarray(PortfolioRisks.Price)[0],4))\n",
    "\n",
    "NewPrice = np.asarray(PortfolioRisks.Price)[0] * (1+GainLoss/np.asarray(PortfolioRisks.Value)[0])\n",
    "\n",
    "print(\"The Current Price of the hedged position is now: \", np.round(NewPrice,4))"
   ]
  },
  {
   "cell_type": "markdown",
   "metadata": {},
   "source": [
    "#### So after hedging level, slope and curvature of the long position with three ZCBs, the result is very good!"
   ]
  },
  {
   "cell_type": "markdown",
   "metadata": {},
   "source": [
    "#### Let's write all into a dataframe "
   ]
  },
  {
   "cell_type": "code",
   "execution_count": 25,
   "metadata": {},
   "outputs": [
    {
     "data": {
      "text/html": [
       "<div>\n",
       "<style scoped>\n",
       "    .dataframe tbody tr th:only-of-type {\n",
       "        vertical-align: middle;\n",
       "    }\n",
       "\n",
       "    .dataframe tbody tr th {\n",
       "        vertical-align: top;\n",
       "    }\n",
       "\n",
       "    .dataframe thead th {\n",
       "        text-align: right;\n",
       "    }\n",
       "</style>\n",
       "<table border=\"1\" class=\"dataframe\">\n",
       "  <thead>\n",
       "    <tr style=\"text-align: right;\">\n",
       "      <th></th>\n",
       "      <th>Initial Value of Long</th>\n",
       "      <th>Delta Long</th>\n",
       "      <th>Initial Value of Hedges</th>\n",
       "      <th>Delta of Hedges</th>\n",
       "      <th>Gain Loss</th>\n",
       "      <th>New Price</th>\n",
       "    </tr>\n",
       "  </thead>\n",
       "  <tbody>\n",
       "    <tr>\n",
       "      <th>0</th>\n",
       "      <td>100000000.0</td>\n",
       "      <td>1282086.0</td>\n",
       "      <td>98054602.0</td>\n",
       "      <td>-1322654.0</td>\n",
       "      <td>-40568.0</td>\n",
       "      <td>1.0054</td>\n",
       "    </tr>\n",
       "  </tbody>\n",
       "</table>\n",
       "</div>"
      ],
      "text/plain": [
       "   Initial Value of Long  Delta Long  Initial Value of Hedges  \\\n",
       "0            100000000.0   1282086.0               98054602.0   \n",
       "\n",
       "   Delta of Hedges  Gain Loss  New Price  \n",
       "0       -1322654.0   -40568.0     1.0054  "
      ]
     },
     "execution_count": 25,
     "metadata": {},
     "output_type": "execute_result"
    }
   ],
   "source": [
    "ReportPortfolio = np.zeros((1,6))\n",
    "ReportPortfolio[0,0] = 100000000\n",
    "ReportPortfolio[0,1] = PortfolioDeltaValue[0]\n",
    "ReportPortfolio[0,2] = np.round(np.sum(Hedges.DFBefore*Hedges.UnitsSold),0)\n",
    "ReportPortfolio[0,3] = HedgingDeltaValue\n",
    "ReportPortfolio[0,4] = GainLoss\n",
    "ReportPortfolio[0,5] = np.round(NewPrice,4)\n",
    "\n",
    "ReportPortfolio = pd.DataFrame(ReportPortfolio)\n",
    "\n",
    "ReportPortfolio.columns = ['Initial Value of Long','Delta Long', 'Initial Value of Hedges','Delta of Hedges', 'Gain Loss', 'New Price']\n",
    "(ReportPortfolio)"
   ]
  },
  {
   "cell_type": "markdown",
   "metadata": {},
   "source": [
    "### Hedging duration and convexity of the 4.75% CB\n",
    "\n",
    "#### We ony need two bonds. We keep the the ZCB with 10 yr maturity and use each the other two bonds to check the combination with the best hedging results"
   ]
  },
  {
   "cell_type": "code",
   "execution_count": 26,
   "metadata": {},
   "outputs": [
    {
     "name": "stderr",
     "output_type": "stream",
     "text": [
      "C:\\Users\\User\\Anaconda3\\lib\\site-packages\\ipykernel_launcher.py:16: SettingWithCopyWarning: \n",
      "A value is trying to be set on a copy of a slice from a DataFrame.\n",
      "Try using .loc[row_indexer,col_indexer] = value instead\n",
      "\n",
      "See the caveats in the documentation: http://pandas.pydata.org/pandas-docs/stable/indexing.html#indexing-view-versus-copy\n",
      "  app.launch_new_instance()\n"
     ]
    }
   ],
   "source": [
    "Report = np.zeros((2,5))\n",
    "for j, i in enumerate(Hedges.Time[0:2]):\n",
    "    Report[j,0] = i\n",
    "    HedgesDur = Hedges.loc[Hedges['Time'] !=  i]\n",
    "    #print (HedgesDur)\n",
    "\n",
    "    MatDur = np.zeros((2,2))\n",
    "    MatDur[0:,] = np.array(HedgesDur.DFBefore*HedgesDur.Dur)\n",
    "    MatDur[1:,] = np.array(HedgesDur.DFBefore*HedgesDur.Conv)\n",
    "    YDur = np.zeros(2)\n",
    "    # CB\n",
    "    YDur[0] = PortfolioRisks.Price*PortfolioRisks.Dur\n",
    "    YDur[1] = PortfolioRisks.Price*PortfolioRisks.Conv\n",
    "\n",
    "    UnitsSoldDur = np.linalg.inv(MatDur[:,0:2]).dot(YDur)\n",
    "    HedgesDur[\"UnitsSoldDur\"] = UnitsSoldDur * np.asarray(PortfolioRisks.Units)\n",
    "\n",
    "    # Value of the Hedging Positions\n",
    "    #print (np.round(np.sum(HedgesDur.DFBefore*HedgesDur.UnitsSoldDur),0))\n",
    "\n",
    "    Report[j,1] = np.round(np.sum(HedgesDur.DFBefore*HedgesDur.UnitsSoldDur),0)\n",
    "    \n",
    "    # The Hedges Value has changed by \n",
    "    HedgingDurDeltaValue = -np.round(np.sum(HedgesDur.DFToDay*HedgesDur.UnitsSoldDur) - \\\n",
    "                                     np.sum(HedgesDur.DFBefore*HedgesDur.UnitsSoldDur),0)\n",
    "    #print(HedgingDurDeltaValue)\n",
    "    \n",
    "    Report[j,2] = np.round(HedgingDurDeltaValue,0)\n",
    "    \n",
    "    # The Portfolio Value has changed by \n",
    "    PortfolioDeltaValue =  np.asarray((np.round(PortfolioRisks.Units * (PortfolioRisks.PriceToDay - PortfolioRisks.Price),0)))\n",
    "    #print (PortfolioDeltaValue[0])\n",
    "\n",
    "\n",
    "    # or a gain loss of\n",
    "    GainLossDur = PortfolioDeltaValue[0] + HedgingDurDeltaValue\n",
    "    #print (GainLossDur) \n",
    "    Report[j,3] = GainLossDur\n",
    "    \n",
    "    # We can also map the loss into a Portfolio Price change as follows\n",
    "    #print(\"Before the price was: \", np.round(np.asarray(PortfolioRisks.Price)[0],4))\n",
    "\n",
    "    NewPriceDur = np.asarray(PortfolioRisks.Price)[0] * (1+GainLossDur/np.asarray(PortfolioRisks.Value)[0])\n",
    "\n",
    "    #print(\"Now the price is:     \", np.round(NewPriceDur,4))\n",
    "    \n",
    "    Report[j,4] = np.round(NewPriceDur,4)"
   ]
  },
  {
   "cell_type": "code",
   "execution_count": 27,
   "metadata": {},
   "outputs": [
    {
     "data": {
      "text/html": [
       "<div>\n",
       "<style scoped>\n",
       "    .dataframe tbody tr th:only-of-type {\n",
       "        vertical-align: middle;\n",
       "    }\n",
       "\n",
       "    .dataframe tbody tr th {\n",
       "        vertical-align: top;\n",
       "    }\n",
       "\n",
       "    .dataframe thead th {\n",
       "        text-align: right;\n",
       "    }\n",
       "</style>\n",
       "<table border=\"1\" class=\"dataframe\">\n",
       "  <thead>\n",
       "    <tr style=\"text-align: right;\">\n",
       "      <th></th>\n",
       "      <th>Not Included: ZCB with Mat</th>\n",
       "      <th>Initial Value of Hedges</th>\n",
       "      <th>Delta of Hedges</th>\n",
       "      <th>Gain Loss</th>\n",
       "      <th>New Price</th>\n",
       "    </tr>\n",
       "  </thead>\n",
       "  <tbody>\n",
       "    <tr>\n",
       "      <th>0</th>\n",
       "      <td>0.5</td>\n",
       "      <td>85896000.0</td>\n",
       "      <td>-1345245.0</td>\n",
       "      <td>-63159.0</td>\n",
       "      <td>1.0052</td>\n",
       "    </tr>\n",
       "    <tr>\n",
       "      <th>1</th>\n",
       "      <td>5.0</td>\n",
       "      <td>76410000.0</td>\n",
       "      <td>-1354090.0</td>\n",
       "      <td>-72004.0</td>\n",
       "      <td>1.0051</td>\n",
       "    </tr>\n",
       "  </tbody>\n",
       "</table>\n",
       "</div>"
      ],
      "text/plain": [
       "   Not Included: ZCB with Mat  Initial Value of Hedges  Delta of Hedges  \\\n",
       "0                         0.5               85896000.0       -1345245.0   \n",
       "1                         5.0               76410000.0       -1354090.0   \n",
       "\n",
       "   Gain Loss  New Price  \n",
       "0   -63159.0     1.0052  \n",
       "1   -72004.0     1.0051  "
      ]
     },
     "execution_count": 27,
     "metadata": {},
     "output_type": "execute_result"
    }
   ],
   "source": [
    "Report = pd.DataFrame(Report)\n",
    "Report.columns = ['Not Included: ZCB with Mat', 'Initial Value of Hedges', 'Delta of Hedges', 'Gain Loss', 'New Price']\n",
    "Report"
   ]
  },
  {
   "cell_type": "code",
   "execution_count": 28,
   "metadata": {},
   "outputs": [
    {
     "data": {
      "text/html": [
       "<div>\n",
       "<style scoped>\n",
       "    .dataframe tbody tr th:only-of-type {\n",
       "        vertical-align: middle;\n",
       "    }\n",
       "\n",
       "    .dataframe tbody tr th {\n",
       "        vertical-align: top;\n",
       "    }\n",
       "\n",
       "    .dataframe thead th {\n",
       "        text-align: right;\n",
       "    }\n",
       "</style>\n",
       "<table border=\"1\" class=\"dataframe\">\n",
       "  <thead>\n",
       "    <tr style=\"text-align: right;\">\n",
       "      <th></th>\n",
       "      <th>Initial Value of Long</th>\n",
       "      <th>Delta Long</th>\n",
       "      <th>Initial Value of Hedges</th>\n",
       "      <th>Delta of Hedges</th>\n",
       "      <th>Gain Loss</th>\n",
       "      <th>New Price</th>\n",
       "    </tr>\n",
       "  </thead>\n",
       "  <tbody>\n",
       "    <tr>\n",
       "      <th>0</th>\n",
       "      <td>100000000.0</td>\n",
       "      <td>1282086.0</td>\n",
       "      <td>98054602.0</td>\n",
       "      <td>-1322654.0</td>\n",
       "      <td>-40568.0</td>\n",
       "      <td>1.0054</td>\n",
       "    </tr>\n",
       "  </tbody>\n",
       "</table>\n",
       "</div>"
      ],
      "text/plain": [
       "   Initial Value of Long  Delta Long  Initial Value of Hedges  \\\n",
       "0            100000000.0   1282086.0               98054602.0   \n",
       "\n",
       "   Delta of Hedges  Gain Loss  New Price  \n",
       "0       -1322654.0   -40568.0     1.0054  "
      ]
     },
     "execution_count": 28,
     "metadata": {},
     "output_type": "execute_result"
    }
   ],
   "source": [
    "(ReportPortfolio)"
   ]
  },
  {
   "cell_type": "markdown",
   "metadata": {},
   "source": [
    "#### Hedging with PC's is a far better hedging strategy! However, we have to short sell a much larger position of ZCBs compared with hedging duration and convexity"
   ]
  },
  {
   "cell_type": "markdown",
   "metadata": {},
   "source": [
    "### Running Regressions "
   ]
  },
  {
   "cell_type": "markdown",
   "metadata": {},
   "source": [
    "Let's check now that we are doing exactly the following:\n",
    "\n",
    "$$\\Delta r_1(t) =\\alpha_1 + \\beta_{1,1}\\Delta\\phi_1^{PCA}(t) + \\epsilon_1(t) $$\n",
    "$$\\Delta r_2(t) =\\alpha_2 + \\beta_{2,1}\\Delta\\phi_1^{PCA}(t) + \\epsilon_2(t) $$\n",
    "$$...$$\n",
    "$$...$$\n",
    "$$\\Delta r_n(t) =\\alpha_n + \\beta_{n,1}\\Delta\\phi_1^{PCA}(t) + \\epsilon_n(t) $$"
   ]
  },
  {
   "cell_type": "markdown",
   "metadata": {},
   "source": [
    "Here is again the 1st component"
   ]
  },
  {
   "cell_type": "code",
   "execution_count": 29,
   "metadata": {},
   "outputs": [
    {
     "data": {
      "text/plain": [
       "array([0.25261981, 0.31312605, 0.35165691, 0.3569194 , 0.35368718,\n",
       "       0.3478456 , 0.33417857, 0.31218563, 0.2721193 , 0.24042877])"
      ]
     },
     "execution_count": 29,
     "metadata": {},
     "output_type": "execute_result"
    }
   ],
   "source": [
    "pca.components_[0]"
   ]
  },
  {
   "cell_type": "markdown",
   "metadata": {},
   "source": [
    "Let's project the changes on the $level(t)$, $\\Delta\\phi_1^{PCA}(t)$\n",
    "$$\\Delta\\phi_1^{PCA}(t) = \\sum_{i=1}^n v_{i,k}\\Delta r_k(t)$$"
   ]
  },
  {
   "cell_type": "code",
   "execution_count": 30,
   "metadata": {},
   "outputs": [
    {
     "name": "stdout",
     "output_type": "stream",
     "text": [
      "(511, 1)\n"
     ]
    }
   ],
   "source": [
    "projected_data = np.dot(diff_rates, pca.components_[0]).T\n",
    "print (projected_data.shape)"
   ]
  },
  {
   "cell_type": "code",
   "execution_count": 31,
   "metadata": {},
   "outputs": [],
   "source": [
    "sizeR      = diff_rates.shape[0]\n",
    "Sizetenors = diff_rates.shape[1]"
   ]
  },
  {
   "cell_type": "markdown",
   "metadata": {},
   "source": [
    "We build a matrix to run the following regression:\n",
    "$$\\Delta r_1(t) =\\alpha_1 + \\beta_{1,1}\\Delta\\phi_1^{PCA}(t) + \\epsilon_1(t) $$\n",
    "$$\\Delta r_2(t) =\\alpha_2 + \\beta_{2,1}\\Delta\\phi_1^{PCA}(t) + \\epsilon_2(t) $$\n",
    "$$...$$\n",
    "$$...$$\n",
    "$$\\Delta r_n(t) =\\alpha_n + \\beta_{n,1}\\Delta\\phi_1^{PCA}(t) + \\epsilon_n(t) $$"
   ]
  },
  {
   "cell_type": "code",
   "execution_count": 32,
   "metadata": {},
   "outputs": [],
   "source": [
    "XX   = np.zeros((sizeR*Sizetenors, Sizetenors*2))\n",
    "Ones = np.ones((sizeR,1))\n",
    "Ones = Ones.reshape((Ones.shape[0],)) \n",
    "YY   =  np.zeros((sizeR*Sizetenors,1))"
   ]
  },
  {
   "cell_type": "code",
   "execution_count": 33,
   "metadata": {},
   "outputs": [],
   "source": [
    "for i in range(0, Sizetenors):\n",
    "    XX[i*sizeR:(i+1)*sizeR,i*2]= Ones\n",
    "    \n",
    "    Proj = projected_data[:,0].reshape((projected_data[:,0].shape[0],)) \n",
    "    XX[i*sizeR:(i+1)*sizeR,i*2+1]= Proj\n",
    "    \n",
    "    diff = diff_rates[:,i].reshape((diff_rates[:,i].shape[0],)) \n",
    "    YY[i*sizeR:(i+1)*sizeR,0] = diff"
   ]
  },
  {
   "cell_type": "code",
   "execution_count": 34,
   "metadata": {},
   "outputs": [
    {
     "name": "stdout",
     "output_type": "stream",
     "text": [
      "(5110, 20)\n",
      "(5110, 1)\n"
     ]
    }
   ],
   "source": [
    "print (XX.shape)\n",
    "print (YY.shape)"
   ]
  },
  {
   "cell_type": "code",
   "execution_count": 35,
   "metadata": {},
   "outputs": [
    {
     "name": "stdout",
     "output_type": "stream",
     "text": [
      "                            OLS Regression Results                            \n",
      "==============================================================================\n",
      "Dep. Variable:                      y   R-squared:                       0.811\n",
      "Model:                            OLS   Adj. R-squared:                  0.810\n",
      "Method:                 Least Squares   F-statistic:                     1146.\n",
      "Date:                Wed, 29 Apr 2020   Prob (F-statistic):               0.00\n",
      "Time:                        13:35:23   Log-Likelihood:                 36222.\n",
      "No. Observations:                5110   AIC:                        -7.240e+04\n",
      "Df Residuals:                    5090   BIC:                        -7.227e+04\n",
      "Df Model:                          19                                         \n",
      "Covariance Type:            nonrobust                                         \n",
      "==============================================================================\n",
      "                 coef    std err          t      P>|t|      [0.025      0.975]\n",
      "------------------------------------------------------------------------------\n",
      "x1          1.334e-05   8.95e-06      1.490      0.136   -4.21e-06    3.09e-05\n",
      "x2             0.2526      0.007     37.277      0.000       0.239       0.266\n",
      "x3          9.016e-06   8.95e-06      1.007      0.314   -8.54e-06    2.66e-05\n",
      "x4             0.3131      0.007     46.205      0.000       0.300       0.326\n",
      "x5          3.512e-06   8.95e-06      0.392      0.695    -1.4e-05    2.11e-05\n",
      "x6             0.3517      0.007     51.891      0.000       0.338       0.365\n",
      "x7          4.909e-07   8.95e-06      0.055      0.956   -1.71e-05     1.8e-05\n",
      "x8             0.3569      0.007     52.667      0.000       0.344       0.370\n",
      "x9          -1.45e-06   8.95e-06     -0.162      0.871    -1.9e-05    1.61e-05\n",
      "x10            0.3537      0.007     52.190      0.000       0.340       0.367\n",
      "x11        -2.767e-06   8.95e-06     -0.309      0.757   -2.03e-05    1.48e-05\n",
      "x12            0.3478      0.007     51.328      0.000       0.335       0.361\n",
      "x13        -4.277e-06   8.95e-06     -0.478      0.633   -2.18e-05    1.33e-05\n",
      "x14            0.3342      0.007     49.312      0.000       0.321       0.347\n",
      "x15        -5.166e-06   8.95e-06     -0.577      0.564   -2.27e-05    1.24e-05\n",
      "x16            0.3122      0.007     46.066      0.000       0.299       0.325\n",
      "x17        -5.802e-06   8.95e-06     -0.648      0.517   -2.34e-05    1.17e-05\n",
      "x18            0.2721      0.007     40.154      0.000       0.259       0.285\n",
      "x19        -6.267e-06   8.95e-06     -0.700      0.484   -2.38e-05    1.13e-05\n",
      "x20            0.2404      0.007     35.478      0.000       0.227       0.254\n",
      "==============================================================================\n",
      "Omnibus:                     3182.815   Durbin-Watson:                   2.436\n",
      "Prob(Omnibus):                  0.000   Jarque-Bera (JB):          8794485.334\n",
      "Skew:                           1.313   Prob(JB):                         0.00\n",
      "Kurtosis:                     206.219   Cond. No.                         757.\n",
      "==============================================================================\n",
      "\n",
      "Warnings:\n",
      "[1] Standard Errors assume that the covariance matrix of the errors is correctly specified.\n"
     ]
    }
   ],
   "source": [
    "results = sm.OLS(YY, XX).fit()\n",
    "print (results.summary())"
   ]
  },
  {
   "cell_type": "markdown",
   "metadata": {},
   "source": [
    "and let's compare the $\\beta's$ with the first principal component"
   ]
  },
  {
   "cell_type": "code",
   "execution_count": 36,
   "metadata": {},
   "outputs": [
    {
     "name": "stdout",
     "output_type": "stream",
     "text": [
      "0.253  :  0.253\n",
      "0.313  :  0.313\n",
      "0.352  :  0.352\n",
      "0.357  :  0.357\n",
      "0.354  :  0.354\n",
      "0.348  :  0.348\n",
      "0.334  :  0.334\n",
      "0.312  :  0.312\n",
      "0.272  :  0.272\n",
      "0.24  :  0.24\n"
     ]
    }
   ],
   "source": [
    "for j, i in enumerate(range(1,20,2)):\n",
    "    print (np.round(results.params[i],3),\" : \", np.round(pca.components_[0,j],3))"
   ]
  },
  {
   "cell_type": "code",
   "execution_count": 37,
   "metadata": {},
   "outputs": [
    {
     "name": "stdout",
     "output_type": "stream",
     "text": [
      "(5110,)\n",
      "(511, 10)\n"
     ]
    }
   ],
   "source": [
    "resid = np.asarray(results.resid)\n",
    "print (resid.shape)\n",
    "epsilons = resid.reshape(sizeR,Sizetenors, order='F')\n",
    "print(epsilons.shape)"
   ]
  },
  {
   "cell_type": "markdown",
   "metadata": {},
   "source": [
    "Let's check now that we are doing excatly the following for the second component:\n",
    "\n",
    "$$\\Delta r_1(t) =\\alpha_1 + \\beta_{1,1}\\Delta\\phi_1^{PCA}(t) + \\beta_{1,2}\\Delta\\phi_2^{PCA}(t) + \\epsilon_1(t) $$\n",
    "$$\\Delta r_2(t) =\\alpha_2 + \\beta_{2,1}\\Delta\\phi_1^{PCA}(t) + \\beta_{2,2}\\Delta\\phi_2^{PCA}(t) + \\epsilon_2(t) $$\n",
    "$$...$$\n",
    "$$...$$\n",
    "$$\\Delta r_n(t) =\\alpha_n + \\beta_{n,1}\\Delta\\phi_1^{PCA}(t) + \\beta_{n,2}\\Delta\\phi_2^{PCA}(t) + \\epsilon_n(t) $$"
   ]
  },
  {
   "cell_type": "markdown",
   "metadata": {},
   "source": [
    "Let's project the changes on the $slope(t)$ $\\Delta\\phi_2^{PCA}(t)$:\n",
    "\n",
    "$$\\Delta\\phi_2^{PCA}(t) = \\sum_{i=1}^n v_{i,k}\\epsilon_k(t)$$"
   ]
  },
  {
   "cell_type": "code",
   "execution_count": 38,
   "metadata": {},
   "outputs": [
    {
     "name": "stdout",
     "output_type": "stream",
     "text": [
      "(511, 1)\n"
     ]
    }
   ],
   "source": [
    "# Note we are using the negative of the second component\n",
    "projected_data_epsilon = np.dot(epsilons, -pca.components_[1]).T\n",
    "projected_data_epsilon = projected_data_epsilon.reshape(sizeR,1)\n",
    "print (projected_data_epsilon.shape)"
   ]
  },
  {
   "cell_type": "code",
   "execution_count": 39,
   "metadata": {},
   "outputs": [],
   "source": [
    "XX  = np.zeros((sizeR*Sizetenors,Sizetenors*3))\n",
    "Ones = np.ones((sizeR,1))\n",
    "Ones = Ones.reshape((Ones.shape[0],)) \n",
    "YY  = np.zeros((sizeR*Sizetenors,1))\n",
    "\n",
    "for i in range(0, Sizetenors):\n",
    "    XX[i*sizeR:(i+1)*sizeR,i*3]= Ones\n",
    "\n",
    "    Proj1 = projected_data[:,0].reshape((projected_data[:,0].shape[0],)) \n",
    "    XX[i*sizeR:(i+1)*sizeR,i*3+1]= Proj1\n",
    "    \n",
    "    Proj2 = projected_data_epsilon[:,0].reshape((projected_data_epsilon[:,0].shape[0],))\n",
    "    XX[i*sizeR:(i+1)*sizeR,i*3+2]= Proj2   \n",
    "\n",
    "    diff = diff_rates[:,i].reshape((diff_rates[:,i].shape[0],)) \n",
    "    YY[i*sizeR:(i+1)*sizeR,0] = diff"
   ]
  },
  {
   "cell_type": "code",
   "execution_count": 40,
   "metadata": {},
   "outputs": [
    {
     "name": "stdout",
     "output_type": "stream",
     "text": [
      "                            OLS Regression Results                            \n",
      "==============================================================================\n",
      "Dep. Variable:                      y   R-squared:                       0.955\n",
      "Model:                            OLS   Adj. R-squared:                  0.955\n",
      "Method:                 Least Squares   F-statistic:                     3761.\n",
      "Date:                Wed, 29 Apr 2020   Prob (F-statistic):               0.00\n",
      "Time:                        13:35:24   Log-Likelihood:                 39923.\n",
      "No. Observations:                5110   AIC:                        -7.979e+04\n",
      "Df Residuals:                    5080   BIC:                        -7.959e+04\n",
      "Df Model:                          29                                         \n",
      "Covariance Type:            nonrobust                                         \n",
      "==============================================================================\n",
      "                 coef    std err          t      P>|t|      [0.025      0.975]\n",
      "------------------------------------------------------------------------------\n",
      "x1          1.334e-05   4.34e-06      3.071      0.002    4.82e-06    2.19e-05\n",
      "x2             0.2526      0.003     76.831      0.000       0.246       0.259\n",
      "x3            -0.7449      0.008    -95.807      0.000      -0.760      -0.730\n",
      "x4          9.016e-06   4.34e-06      2.076      0.038       5e-07    1.75e-05\n",
      "x5             0.3131      0.003     95.234      0.000       0.307       0.320\n",
      "x6            -0.4472      0.008    -57.514      0.000      -0.462      -0.432\n",
      "x7          3.512e-06   4.34e-06      0.808      0.419      -5e-06     1.2e-05\n",
      "x8             0.3517      0.003    106.952      0.000       0.345       0.358\n",
      "x9            -0.0814      0.008    -10.474      0.000      -0.097      -0.066\n",
      "x10         4.909e-07   4.34e-06      0.113      0.910   -8.02e-06    9.01e-06\n",
      "x11            0.3569      0.003    108.553      0.000       0.350       0.363\n",
      "x12            0.0461      0.008      5.927      0.000       0.031       0.061\n",
      "x13         -1.45e-06   4.34e-06     -0.334      0.739   -9.97e-06    7.07e-06\n",
      "x14            0.3537      0.003    107.570      0.000       0.347       0.360\n",
      "x15            0.1019      0.008     13.103      0.000       0.087       0.117\n",
      "x16        -2.767e-06   4.34e-06     -0.637      0.524   -1.13e-05    5.75e-06\n",
      "x17            0.3478      0.003    105.793      0.000       0.341       0.354\n",
      "x18            0.1344      0.008     17.286      0.000       0.119       0.150\n",
      "x19        -4.277e-06   4.34e-06     -0.985      0.325   -1.28e-05    4.24e-06\n",
      "x20            0.3342      0.003    101.636      0.000       0.328       0.341\n",
      "x21            0.1781      0.008     22.906      0.000       0.163       0.193\n",
      "x22        -5.166e-06   4.34e-06     -1.189      0.234   -1.37e-05    3.35e-06\n",
      "x23            0.3122      0.003     94.948      0.000       0.306       0.319\n",
      "x24            0.2196      0.008     28.240      0.000       0.204       0.235\n",
      "x25        -5.802e-06   4.34e-06     -1.336      0.182   -1.43e-05    2.71e-06\n",
      "x26            0.2721      0.003     82.762      0.000       0.266       0.279\n",
      "x27            0.2485      0.008     31.961      0.000       0.233       0.264\n",
      "x28        -6.267e-06   4.34e-06     -1.443      0.149   -1.48e-05    2.25e-06\n",
      "x29            0.2404      0.003     73.124      0.000       0.234       0.247\n",
      "x30            0.2575      0.008     33.125      0.000       0.242       0.273\n",
      "==============================================================================\n",
      "Omnibus:                     1492.961   Durbin-Watson:                   2.094\n",
      "Prob(Omnibus):                  0.000   Jarque-Bera (JB):           178309.948\n",
      "Skew:                          -0.236   Prob(JB):                         0.00\n",
      "Kurtosis:                      31.935   Cond. No.                     1.79e+03\n",
      "==============================================================================\n",
      "\n",
      "Warnings:\n",
      "[1] Standard Errors assume that the covariance matrix of the errors is correctly specified.\n",
      "[2] The condition number is large, 1.79e+03. This might indicate that there are\n",
      "strong multicollinearity or other numerical problems.\n"
     ]
    }
   ],
   "source": [
    "results = sm.OLS(YY, XX).fit()\n",
    "print (results.summary())"
   ]
  },
  {
   "cell_type": "markdown",
   "metadata": {},
   "source": [
    "and let's compare the $\\beta's$ with the second principal component"
   ]
  },
  {
   "cell_type": "code",
   "execution_count": 41,
   "metadata": {},
   "outputs": [
    {
     "name": "stdout",
     "output_type": "stream",
     "text": [
      "-0.745  :  -0.745\n",
      "-0.447  :  -0.447\n",
      "-0.081  :  -0.081\n",
      "0.046  :  0.046\n",
      "0.102  :  0.102\n",
      "0.134  :  0.134\n",
      "0.178  :  0.178\n",
      "0.22  :  0.22\n",
      "0.248  :  0.248\n",
      "0.258  :  0.258\n"
     ]
    }
   ],
   "source": [
    "for j, i in enumerate(range(2,30,3)):\n",
    "    print (np.round(results.params[i],3),\" : \", -np.round(pca.components_[1,j],3))"
   ]
  },
  {
   "cell_type": "code",
   "execution_count": 42,
   "metadata": {},
   "outputs": [
    {
     "name": "stdout",
     "output_type": "stream",
     "text": [
      "(5110,)\n",
      "(511, 10)\n"
     ]
    }
   ],
   "source": [
    "resid = np.asarray(results.resid)\n",
    "print (resid.shape)\n",
    "epsilons = resid.reshape(sizeR,Sizetenors, order='F')\n",
    "print(epsilons.shape)"
   ]
  },
  {
   "cell_type": "code",
   "execution_count": 43,
   "metadata": {},
   "outputs": [
    {
     "name": "stdout",
     "output_type": "stream",
     "text": [
      "(511, 1)\n"
     ]
    }
   ],
   "source": [
    "projected_data_epsilon2 = np.dot(epsilons, pca.components_[2]).T\n",
    "projected_data_epsilon2 = projected_data_epsilon2.reshape(sizeR,1)\n",
    "print (projected_data_epsilon2.shape)"
   ]
  },
  {
   "cell_type": "code",
   "execution_count": 44,
   "metadata": {},
   "outputs": [],
   "source": [
    "XX = np.zeros((sizeR*Sizetenors,Sizetenors*4))\n",
    "Ones = np.ones((sizeR,1))\n",
    "Ones = Ones.reshape((Ones.shape[0],)) \n",
    "YY =  np.zeros((sizeR*Sizetenors,1))\n",
    "\n",
    "for i in range(0, Sizetenors):\n",
    "    XX[i*sizeR:(i+1)*sizeR,i*4]= Ones\n",
    "\n",
    "    Proj1 = projected_data[:,0].reshape((projected_data[:,0].shape[0],)) \n",
    "    XX[i*sizeR:(i+1)*sizeR,i*4+1]= Proj1\n",
    "    \n",
    "    Proj2 = projected_data_epsilon[:,0].reshape((projected_data_epsilon[:,0].shape[0],))\n",
    "    XX[i*sizeR:(i+1)*sizeR,i*4+2]= Proj2   \n",
    "\n",
    "    Proj3 = projected_data_epsilon2[:,0].reshape((projected_data_epsilon2[:,0].shape[0],))\n",
    "    XX[i*sizeR:(i+1)*sizeR,i*4+3]= Proj3   \n",
    "    \n",
    "    diff = diff_rates[:,i].reshape((diff_rates[:,i].shape[0],)) \n",
    "    YY[i*sizeR:(i+1)*sizeR,0] = diff"
   ]
  },
  {
   "cell_type": "code",
   "execution_count": 45,
   "metadata": {},
   "outputs": [
    {
     "name": "stdout",
     "output_type": "stream",
     "text": [
      "                            OLS Regression Results                            \n",
      "==============================================================================\n",
      "Dep. Variable:                      y   R-squared:                       0.995\n",
      "Model:                            OLS   Adj. R-squared:                  0.995\n",
      "Method:                 Least Squares   F-statistic:                 2.710e+04\n",
      "Date:                Wed, 29 Apr 2020   Prob (F-statistic):               0.00\n",
      "Time:                        13:35:25   Log-Likelihood:                 45627.\n",
      "No. Observations:                5110   AIC:                        -9.117e+04\n",
      "Df Residuals:                    5070   BIC:                        -9.091e+04\n",
      "Df Model:                          39                                         \n",
      "Covariance Type:            nonrobust                                         \n",
      "==============================================================================\n",
      "                 coef    std err          t      P>|t|      [0.025      0.975]\n",
      "------------------------------------------------------------------------------\n",
      "x1          1.334e-05   1.42e-06      9.368      0.000    1.05e-05    1.61e-05\n",
      "x2             0.2526      0.001    234.373      0.000       0.251       0.255\n",
      "x3            -0.7449      0.003   -292.257      0.000      -0.750      -0.740\n",
      "x4            -0.3888      0.005    -79.868      0.000      -0.398      -0.379\n",
      "x5          9.016e-06   1.42e-06      6.331      0.000    6.22e-06    1.18e-05\n",
      "x6             0.3131      0.001    290.508      0.000       0.311       0.315\n",
      "x7            -0.4472      0.003   -175.447      0.000      -0.452      -0.442\n",
      "x8             0.0567      0.005     11.642      0.000       0.047       0.066\n",
      "x9          3.512e-06   1.42e-06      2.466      0.014     7.2e-07     6.3e-06\n",
      "x10            0.3517      0.001    326.256      0.000       0.350       0.354\n",
      "x11           -0.0814      0.003    -31.950      0.000      -0.086      -0.076\n",
      "x12            0.3981      0.005     81.777      0.000       0.389       0.408\n",
      "x13         4.909e-07   1.42e-06      0.345      0.730    -2.3e-06    3.28e-06\n",
      "x14            0.3569      0.001    331.138      0.000       0.355       0.359\n",
      "x15            0.0461      0.003     18.081      0.000       0.041       0.051\n",
      "x16            0.3703      0.005     76.078      0.000       0.361       0.380\n",
      "x17         -1.45e-06   1.42e-06     -1.018      0.309   -4.24e-06    1.34e-06\n",
      "x18            0.3537      0.001    328.140      0.000       0.352       0.356\n",
      "x19            0.1019      0.003     39.970      0.000       0.097       0.107\n",
      "x20            0.2592      0.005     53.252      0.000       0.250       0.269\n",
      "x21        -2.767e-06   1.42e-06     -1.943      0.052   -5.56e-06    2.45e-08\n",
      "x22            0.3478      0.001    322.720      0.000       0.346       0.350\n",
      "x23            0.1344      0.003     52.732      0.000       0.129       0.139\n",
      "x24            0.1374      0.005     28.220      0.000       0.128       0.147\n",
      "x25        -4.277e-06   1.42e-06     -3.004      0.003   -7.07e-06   -1.49e-06\n",
      "x26            0.3342      0.001    310.040      0.000       0.332       0.336\n",
      "x27            0.1781      0.003     69.875      0.000       0.173       0.183\n",
      "x28           -0.0718      0.005    -14.740      0.000      -0.081      -0.062\n",
      "x29        -5.166e-06   1.42e-06     -3.628      0.000   -7.96e-06   -2.37e-06\n",
      "x30            0.3122      0.001    289.636      0.000       0.310       0.314\n",
      "x31            0.2196      0.003     86.145      0.000       0.215       0.225\n",
      "x32           -0.2663      0.005    -54.715      0.000      -0.276      -0.257\n",
      "x33        -5.802e-06   1.42e-06     -4.075      0.000   -8.59e-06   -3.01e-06\n",
      "x34            0.2721      0.001    252.464      0.000       0.270       0.274\n",
      "x35            0.2485      0.003     97.498      0.000       0.243       0.253\n",
      "x36           -0.4062      0.005    -83.439      0.000      -0.416      -0.397\n",
      "x37        -6.267e-06   1.42e-06     -4.401      0.000   -9.06e-06   -3.48e-06\n",
      "x38            0.2404      0.001    223.062      0.000       0.238       0.243\n",
      "x39            0.2575      0.003    101.047      0.000       0.253       0.263\n",
      "x40           -0.4721      0.005    -96.988      0.000      -0.482      -0.463\n",
      "==============================================================================\n",
      "Omnibus:                      500.046   Durbin-Watson:                   2.043\n",
      "Prob(Omnibus):                  0.000   Jarque-Bera (JB):             3692.378\n",
      "Skew:                          -0.114   Prob(JB):                         0.00\n",
      "Kurtosis:                       7.158   Cond. No.                     3.42e+03\n",
      "==============================================================================\n",
      "\n",
      "Warnings:\n",
      "[1] Standard Errors assume that the covariance matrix of the errors is correctly specified.\n",
      "[2] The condition number is large, 3.42e+03. This might indicate that there are\n",
      "strong multicollinearity or other numerical problems.\n"
     ]
    }
   ],
   "source": [
    "results = sm.OLS(YY, XX).fit()\n",
    "print (results.summary())"
   ]
  },
  {
   "cell_type": "markdown",
   "metadata": {},
   "source": [
    "and finally let's compare all $\\beta's$ with all principal components"
   ]
  },
  {
   "cell_type": "code",
   "execution_count": 46,
   "metadata": {},
   "outputs": [
    {
     "data": {
      "text/html": [
       "<div>\n",
       "<style scoped>\n",
       "    .dataframe tbody tr th:only-of-type {\n",
       "        vertical-align: middle;\n",
       "    }\n",
       "\n",
       "    .dataframe tbody tr th {\n",
       "        vertical-align: top;\n",
       "    }\n",
       "\n",
       "    .dataframe thead th {\n",
       "        text-align: right;\n",
       "    }\n",
       "</style>\n",
       "<table border=\"1\" class=\"dataframe\">\n",
       "  <thead>\n",
       "    <tr style=\"text-align: right;\">\n",
       "      <th></th>\n",
       "      <th>0.5</th>\n",
       "      <th>1</th>\n",
       "      <th>2</th>\n",
       "      <th>3</th>\n",
       "      <th>4</th>\n",
       "      <th>5</th>\n",
       "      <th>7</th>\n",
       "      <th>10</th>\n",
       "      <th>15</th>\n",
       "      <th>20</th>\n",
       "    </tr>\n",
       "  </thead>\n",
       "  <tbody>\n",
       "    <tr>\n",
       "      <th>Level</th>\n",
       "      <td>0.2526</td>\n",
       "      <td>0.3131</td>\n",
       "      <td>0.3517</td>\n",
       "      <td>0.3569</td>\n",
       "      <td>0.3537</td>\n",
       "      <td>0.3478</td>\n",
       "      <td>0.3342</td>\n",
       "      <td>0.3122</td>\n",
       "      <td>0.2721</td>\n",
       "      <td>0.2404</td>\n",
       "    </tr>\n",
       "    <tr>\n",
       "      <th>Slope</th>\n",
       "      <td>-0.7449</td>\n",
       "      <td>-0.4472</td>\n",
       "      <td>-0.0814</td>\n",
       "      <td>0.0461</td>\n",
       "      <td>0.1019</td>\n",
       "      <td>0.1344</td>\n",
       "      <td>0.1781</td>\n",
       "      <td>0.2196</td>\n",
       "      <td>0.2485</td>\n",
       "      <td>0.2575</td>\n",
       "    </tr>\n",
       "    <tr>\n",
       "      <th>Curvature</th>\n",
       "      <td>-0.3888</td>\n",
       "      <td>0.0567</td>\n",
       "      <td>0.3981</td>\n",
       "      <td>0.3703</td>\n",
       "      <td>0.2592</td>\n",
       "      <td>0.1374</td>\n",
       "      <td>-0.0718</td>\n",
       "      <td>-0.2663</td>\n",
       "      <td>-0.4062</td>\n",
       "      <td>-0.4721</td>\n",
       "    </tr>\n",
       "  </tbody>\n",
       "</table>\n",
       "</div>"
      ],
      "text/plain": [
       "              0.5       1       2       3       4       5       7      10  \\\n",
       "Level      0.2526  0.3131  0.3517  0.3569  0.3537  0.3478  0.3342  0.3122   \n",
       "Slope     -0.7449 -0.4472 -0.0814  0.0461  0.1019  0.1344  0.1781  0.2196   \n",
       "Curvature -0.3888  0.0567  0.3981  0.3703  0.2592  0.1374 -0.0718 -0.2663   \n",
       "\n",
       "               15      20  \n",
       "Level      0.2721  0.2404  \n",
       "Slope      0.2485  0.2575  \n",
       "Curvature -0.4062 -0.4721  "
      ]
     },
     "execution_count": 46,
     "metadata": {},
     "output_type": "execute_result"
    }
   ],
   "source": [
    "betas   = results.params.reshape(4,Sizetenors, order = 'F')\n",
    "BetasDF = pd.DataFrame(np.round(betas,4))\n",
    "BetasDF.columns = dataframe.columns\n",
    "\n",
    "BetasDF = BetasDF.drop(BetasDF.index[0])\n",
    "BetasDF = BetasDF.rename(index={1: \"Level\", 2:\"Slope\", 3:\"Curvature\"})\n",
    "(BetasDF)"
   ]
  },
  {
   "cell_type": "code",
   "execution_count": 47,
   "metadata": {},
   "outputs": [
    {
     "data": {
      "text/html": [
       "<div>\n",
       "<style scoped>\n",
       "    .dataframe tbody tr th:only-of-type {\n",
       "        vertical-align: middle;\n",
       "    }\n",
       "\n",
       "    .dataframe tbody tr th {\n",
       "        vertical-align: top;\n",
       "    }\n",
       "\n",
       "    .dataframe thead th {\n",
       "        text-align: right;\n",
       "    }\n",
       "</style>\n",
       "<table border=\"1\" class=\"dataframe\">\n",
       "  <thead>\n",
       "    <tr style=\"text-align: right;\">\n",
       "      <th></th>\n",
       "      <th>0.5</th>\n",
       "      <th>1</th>\n",
       "      <th>2</th>\n",
       "      <th>3</th>\n",
       "      <th>4</th>\n",
       "      <th>5</th>\n",
       "      <th>7</th>\n",
       "      <th>10</th>\n",
       "      <th>15</th>\n",
       "      <th>20</th>\n",
       "    </tr>\n",
       "  </thead>\n",
       "  <tbody>\n",
       "    <tr>\n",
       "      <th>Level</th>\n",
       "      <td>0.2526</td>\n",
       "      <td>0.3131</td>\n",
       "      <td>0.3517</td>\n",
       "      <td>0.3569</td>\n",
       "      <td>0.3537</td>\n",
       "      <td>0.3478</td>\n",
       "      <td>0.3342</td>\n",
       "      <td>0.3122</td>\n",
       "      <td>0.2721</td>\n",
       "      <td>0.2404</td>\n",
       "    </tr>\n",
       "    <tr>\n",
       "      <th>Slope</th>\n",
       "      <td>-0.7449</td>\n",
       "      <td>-0.4472</td>\n",
       "      <td>-0.0814</td>\n",
       "      <td>0.0461</td>\n",
       "      <td>0.1019</td>\n",
       "      <td>0.1344</td>\n",
       "      <td>0.1781</td>\n",
       "      <td>0.2196</td>\n",
       "      <td>0.2485</td>\n",
       "      <td>0.2575</td>\n",
       "    </tr>\n",
       "    <tr>\n",
       "      <th>Curvature</th>\n",
       "      <td>-0.3888</td>\n",
       "      <td>0.0567</td>\n",
       "      <td>0.3981</td>\n",
       "      <td>0.3703</td>\n",
       "      <td>0.2592</td>\n",
       "      <td>0.1374</td>\n",
       "      <td>-0.0718</td>\n",
       "      <td>-0.2663</td>\n",
       "      <td>-0.4062</td>\n",
       "      <td>-0.4721</td>\n",
       "    </tr>\n",
       "  </tbody>\n",
       "</table>\n",
       "</div>"
      ],
      "text/plain": [
       "              0.5       1       2       3       4       5       7      10  \\\n",
       "Level      0.2526  0.3131  0.3517  0.3569  0.3537  0.3478  0.3342  0.3122   \n",
       "Slope     -0.7449 -0.4472 -0.0814  0.0461  0.1019  0.1344  0.1781  0.2196   \n",
       "Curvature -0.3888  0.0567  0.3981  0.3703  0.2592  0.1374 -0.0718 -0.2663   \n",
       "\n",
       "               15      20  \n",
       "Level      0.2721  0.2404  \n",
       "Slope      0.2485  0.2575  \n",
       "Curvature -0.4062 -0.4721  "
      ]
     },
     "execution_count": 47,
     "metadata": {},
     "output_type": "execute_result"
    }
   ],
   "source": [
    "BetasPCA = pd.DataFrame(np.round(pca.components_[0:3],4))\n",
    "BetasPCA.columns = dataframe.columns\n",
    "BetasPCA.loc[1] = -BetasPCA.loc[1]\n",
    "BetasPCA = BetasPCA.rename(index={0: \"Level\", 1:\"Slope\", 2:\"Curvature\"})\n",
    "BetasPCA"
   ]
  },
  {
   "cell_type": "markdown",
   "metadata": {},
   "source": [
    "The end"
   ]
  }
 ],
 "metadata": {
  "kernelspec": {
   "display_name": "Python 3",
   "language": "python",
   "name": "python3"
  },
  "language_info": {
   "codemirror_mode": {
    "name": "ipython",
    "version": 3
   },
   "file_extension": ".py",
   "mimetype": "text/x-python",
   "name": "python",
   "nbconvert_exporter": "python",
   "pygments_lexer": "ipython3",
   "version": "3.6.4"
  }
 },
 "nbformat": 4,
 "nbformat_minor": 1
}
